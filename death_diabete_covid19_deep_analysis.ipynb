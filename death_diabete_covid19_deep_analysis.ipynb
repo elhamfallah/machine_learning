{
 "cells": [
  {
   "cell_type": "code",
   "execution_count": 1,
   "metadata": {},
   "outputs": [],
   "source": [
    "import pandas as pd\n",
    "import numpy as np\n",
    "import seaborn as sns\n",
    "import matplotlib.pyplot as plt\n",
    "from sklearn.impute import SimpleImputer\n",
    "from sklearn.preprocessing import StandardScaler \n",
    "from sklearn.model_selection import train_test_split\n",
    "from sklearn.preprocessing import LabelEncoder\n",
    "from sklearn.linear_model import LogisticRegression\n",
    "from sklearn.metrics import confusion_matrix\n",
    "from sklearn.metrics import classification_report, accuracy_score\n",
    "from sklearn.neighbors import KNeighborsClassifier\n",
    "from sklearn import tree\n",
    "from sklearn.svm import SVC\n",
    "from sklearn.model_selection import GridSearchCV\n",
    "import warnings\n",
    "warnings.filterwarnings('ignore')"
   ]
  },
  {
   "cell_type": "markdown",
   "metadata": {},
   "source": [
    "# Provisional death counts of diabetes, coronavirus disease 2019 (COVID-19) and other select causes of death, by month, sex, and age."
   ]
  },
  {
   "cell_type": "code",
   "execution_count": 2,
   "metadata": {},
   "outputs": [
    {
     "data": {
      "text/html": [
       "<div>\n",
       "<style scoped>\n",
       "    .dataframe tbody tr th:only-of-type {\n",
       "        vertical-align: middle;\n",
       "    }\n",
       "\n",
       "    .dataframe tbody tr th {\n",
       "        vertical-align: top;\n",
       "    }\n",
       "\n",
       "    .dataframe thead th {\n",
       "        text-align: right;\n",
       "    }\n",
       "</style>\n",
       "<table border=\"1\" class=\"dataframe\">\n",
       "  <thead>\n",
       "    <tr style=\"text-align: right;\">\n",
       "      <th></th>\n",
       "      <th>Data as of</th>\n",
       "      <th>Date_Of_Death_Year</th>\n",
       "      <th>Date_Of_Death_Month</th>\n",
       "      <th>AgeGroup</th>\n",
       "      <th>Sex</th>\n",
       "      <th>COVID19</th>\n",
       "      <th>Diabetes.uc</th>\n",
       "      <th>Diabetes.mc</th>\n",
       "      <th>C19PlusDiabetes</th>\n",
       "      <th>C19PlusHypertensiveDiseases</th>\n",
       "      <th>C19PlusMajorCardiovascularDiseases</th>\n",
       "      <th>C19PlusHypertensiveDiseasesAndMCVD</th>\n",
       "      <th>C19PlusChronicLowerRespiratoryDisease</th>\n",
       "      <th>C19PlusKidneyDisease</th>\n",
       "      <th>C19PlusChronicLiverDiseaseAndCirrhosis</th>\n",
       "      <th>C19PlusObesity</th>\n",
       "    </tr>\n",
       "  </thead>\n",
       "  <tbody>\n",
       "    <tr>\n",
       "      <th>0</th>\n",
       "      <td>10/20/2020</td>\n",
       "      <td>2020</td>\n",
       "      <td>1</td>\n",
       "      <td>&lt;18 years</td>\n",
       "      <td>Female (F)</td>\n",
       "      <td>0</td>\n",
       "      <td>3</td>\n",
       "      <td>5</td>\n",
       "      <td>0</td>\n",
       "      <td>0</td>\n",
       "      <td>0</td>\n",
       "      <td>0</td>\n",
       "      <td>0</td>\n",
       "      <td>0</td>\n",
       "      <td>0</td>\n",
       "      <td>0</td>\n",
       "    </tr>\n",
       "    <tr>\n",
       "      <th>1</th>\n",
       "      <td>10/20/2020</td>\n",
       "      <td>2020</td>\n",
       "      <td>1</td>\n",
       "      <td>&lt;18 years</td>\n",
       "      <td>Male (M)</td>\n",
       "      <td>0</td>\n",
       "      <td>3</td>\n",
       "      <td>3</td>\n",
       "      <td>0</td>\n",
       "      <td>0</td>\n",
       "      <td>0</td>\n",
       "      <td>0</td>\n",
       "      <td>0</td>\n",
       "      <td>0</td>\n",
       "      <td>0</td>\n",
       "      <td>0</td>\n",
       "    </tr>\n",
       "    <tr>\n",
       "      <th>2</th>\n",
       "      <td>10/20/2020</td>\n",
       "      <td>2020</td>\n",
       "      <td>1</td>\n",
       "      <td>18-29 years</td>\n",
       "      <td>Female (F)</td>\n",
       "      <td>0</td>\n",
       "      <td>20</td>\n",
       "      <td>36</td>\n",
       "      <td>0</td>\n",
       "      <td>0</td>\n",
       "      <td>0</td>\n",
       "      <td>0</td>\n",
       "      <td>0</td>\n",
       "      <td>0</td>\n",
       "      <td>0</td>\n",
       "      <td>0</td>\n",
       "    </tr>\n",
       "    <tr>\n",
       "      <th>3</th>\n",
       "      <td>10/20/2020</td>\n",
       "      <td>2020</td>\n",
       "      <td>1</td>\n",
       "      <td>18-29 years</td>\n",
       "      <td>Male (M)</td>\n",
       "      <td>0</td>\n",
       "      <td>44</td>\n",
       "      <td>65</td>\n",
       "      <td>0</td>\n",
       "      <td>0</td>\n",
       "      <td>0</td>\n",
       "      <td>0</td>\n",
       "      <td>0</td>\n",
       "      <td>0</td>\n",
       "      <td>0</td>\n",
       "      <td>0</td>\n",
       "    </tr>\n",
       "    <tr>\n",
       "      <th>4</th>\n",
       "      <td>10/20/2020</td>\n",
       "      <td>2020</td>\n",
       "      <td>1</td>\n",
       "      <td>30-39 years</td>\n",
       "      <td>Female (F)</td>\n",
       "      <td>0</td>\n",
       "      <td>53</td>\n",
       "      <td>104</td>\n",
       "      <td>0</td>\n",
       "      <td>0</td>\n",
       "      <td>0</td>\n",
       "      <td>0</td>\n",
       "      <td>0</td>\n",
       "      <td>0</td>\n",
       "      <td>0</td>\n",
       "      <td>0</td>\n",
       "    </tr>\n",
       "    <tr>\n",
       "      <th>...</th>\n",
       "      <td>...</td>\n",
       "      <td>...</td>\n",
       "      <td>...</td>\n",
       "      <td>...</td>\n",
       "      <td>...</td>\n",
       "      <td>...</td>\n",
       "      <td>...</td>\n",
       "      <td>...</td>\n",
       "      <td>...</td>\n",
       "      <td>...</td>\n",
       "      <td>...</td>\n",
       "      <td>...</td>\n",
       "      <td>...</td>\n",
       "      <td>...</td>\n",
       "      <td>...</td>\n",
       "      <td>...</td>\n",
       "    </tr>\n",
       "    <tr>\n",
       "      <th>221</th>\n",
       "      <td>10/20/2020</td>\n",
       "      <td>2020</td>\n",
       "      <td>9</td>\n",
       "      <td>75-84 years</td>\n",
       "      <td>Male (M)</td>\n",
       "      <td>2525</td>\n",
       "      <td>956</td>\n",
       "      <td>3925</td>\n",
       "      <td>385</td>\n",
       "      <td>434</td>\n",
       "      <td>1182</td>\n",
       "      <td>1182</td>\n",
       "      <td>276</td>\n",
       "      <td>292</td>\n",
       "      <td>7</td>\n",
       "      <td>52</td>\n",
       "    </tr>\n",
       "    <tr>\n",
       "      <th>222</th>\n",
       "      <td>10/20/2020</td>\n",
       "      <td>2020</td>\n",
       "      <td>9</td>\n",
       "      <td>80+ years</td>\n",
       "      <td>Female (F)</td>\n",
       "      <td>3847</td>\n",
       "      <td>1201</td>\n",
       "      <td>4809</td>\n",
       "      <td>426</td>\n",
       "      <td>785</td>\n",
       "      <td>1785</td>\n",
       "      <td>1785</td>\n",
       "      <td>318</td>\n",
       "      <td>255</td>\n",
       "      <td>7</td>\n",
       "      <td>31</td>\n",
       "    </tr>\n",
       "    <tr>\n",
       "      <th>223</th>\n",
       "      <td>10/20/2020</td>\n",
       "      <td>2020</td>\n",
       "      <td>9</td>\n",
       "      <td>80+ years</td>\n",
       "      <td>Male (M)</td>\n",
       "      <td>3277</td>\n",
       "      <td>1053</td>\n",
       "      <td>4387</td>\n",
       "      <td>394</td>\n",
       "      <td>580</td>\n",
       "      <td>1590</td>\n",
       "      <td>1590</td>\n",
       "      <td>340</td>\n",
       "      <td>331</td>\n",
       "      <td>6</td>\n",
       "      <td>16</td>\n",
       "    </tr>\n",
       "    <tr>\n",
       "      <th>224</th>\n",
       "      <td>10/20/2020</td>\n",
       "      <td>2020</td>\n",
       "      <td>9</td>\n",
       "      <td>85+ years</td>\n",
       "      <td>Female (F)</td>\n",
       "      <td>2778</td>\n",
       "      <td>806</td>\n",
       "      <td>3204</td>\n",
       "      <td>270</td>\n",
       "      <td>578</td>\n",
       "      <td>1295</td>\n",
       "      <td>1295</td>\n",
       "      <td>209</td>\n",
       "      <td>179</td>\n",
       "      <td>3</td>\n",
       "      <td>16</td>\n",
       "    </tr>\n",
       "    <tr>\n",
       "      <th>225</th>\n",
       "      <td>10/20/2020</td>\n",
       "      <td>2020</td>\n",
       "      <td>9</td>\n",
       "      <td>85+ years</td>\n",
       "      <td>Male (M)</td>\n",
       "      <td>2036</td>\n",
       "      <td>620</td>\n",
       "      <td>2571</td>\n",
       "      <td>229</td>\n",
       "      <td>363</td>\n",
       "      <td>985</td>\n",
       "      <td>985</td>\n",
       "      <td>195</td>\n",
       "      <td>189</td>\n",
       "      <td>3</td>\n",
       "      <td>4</td>\n",
       "    </tr>\n",
       "  </tbody>\n",
       "</table>\n",
       "<p>226 rows × 16 columns</p>\n",
       "</div>"
      ],
      "text/plain": [
       "     Data as of  Date_Of_Death_Year  Date_Of_Death_Month     AgeGroup  \\\n",
       "0    10/20/2020                2020                    1    <18 years   \n",
       "1    10/20/2020                2020                    1    <18 years   \n",
       "2    10/20/2020                2020                    1  18-29 years   \n",
       "3    10/20/2020                2020                    1  18-29 years   \n",
       "4    10/20/2020                2020                    1  30-39 years   \n",
       "..          ...                 ...                  ...          ...   \n",
       "221  10/20/2020                2020                    9  75-84 years   \n",
       "222  10/20/2020                2020                    9    80+ years   \n",
       "223  10/20/2020                2020                    9    80+ years   \n",
       "224  10/20/2020                2020                    9    85+ years   \n",
       "225  10/20/2020                2020                    9    85+ years   \n",
       "\n",
       "            Sex  COVID19  Diabetes.uc  Diabetes.mc  C19PlusDiabetes  \\\n",
       "0    Female (F)        0            3            5                0   \n",
       "1      Male (M)        0            3            3                0   \n",
       "2    Female (F)        0           20           36                0   \n",
       "3      Male (M)        0           44           65                0   \n",
       "4    Female (F)        0           53          104                0   \n",
       "..          ...      ...          ...          ...              ...   \n",
       "221    Male (M)     2525          956         3925              385   \n",
       "222  Female (F)     3847         1201         4809              426   \n",
       "223    Male (M)     3277         1053         4387              394   \n",
       "224  Female (F)     2778          806         3204              270   \n",
       "225    Male (M)     2036          620         2571              229   \n",
       "\n",
       "     C19PlusHypertensiveDiseases  C19PlusMajorCardiovascularDiseases  \\\n",
       "0                              0                                   0   \n",
       "1                              0                                   0   \n",
       "2                              0                                   0   \n",
       "3                              0                                   0   \n",
       "4                              0                                   0   \n",
       "..                           ...                                 ...   \n",
       "221                          434                                1182   \n",
       "222                          785                                1785   \n",
       "223                          580                                1590   \n",
       "224                          578                                1295   \n",
       "225                          363                                 985   \n",
       "\n",
       "     C19PlusHypertensiveDiseasesAndMCVD  \\\n",
       "0                                     0   \n",
       "1                                     0   \n",
       "2                                     0   \n",
       "3                                     0   \n",
       "4                                     0   \n",
       "..                                  ...   \n",
       "221                                1182   \n",
       "222                                1785   \n",
       "223                                1590   \n",
       "224                                1295   \n",
       "225                                 985   \n",
       "\n",
       "     C19PlusChronicLowerRespiratoryDisease  C19PlusKidneyDisease  \\\n",
       "0                                        0                     0   \n",
       "1                                        0                     0   \n",
       "2                                        0                     0   \n",
       "3                                        0                     0   \n",
       "4                                        0                     0   \n",
       "..                                     ...                   ...   \n",
       "221                                    276                   292   \n",
       "222                                    318                   255   \n",
       "223                                    340                   331   \n",
       "224                                    209                   179   \n",
       "225                                    195                   189   \n",
       "\n",
       "     C19PlusChronicLiverDiseaseAndCirrhosis  C19PlusObesity  \n",
       "0                                         0               0  \n",
       "1                                         0               0  \n",
       "2                                         0               0  \n",
       "3                                         0               0  \n",
       "4                                         0               0  \n",
       "..                                      ...             ...  \n",
       "221                                       7              52  \n",
       "222                                       7              31  \n",
       "223                                       6              16  \n",
       "224                                       3              16  \n",
       "225                                       3               4  \n",
       "\n",
       "[226 rows x 16 columns]"
      ]
     },
     "execution_count": 2,
     "metadata": {},
     "output_type": "execute_result"
    }
   ],
   "source": [
    "df = pd.read_csv('AH_Provisional_Diabetes_Death_Counts_for_2020.csv')\n",
    "df"
   ]
  },
  {
   "cell_type": "code",
   "execution_count": 3,
   "metadata": {},
   "outputs": [
    {
     "data": {
      "text/html": [
       "<div>\n",
       "<style scoped>\n",
       "    .dataframe tbody tr th:only-of-type {\n",
       "        vertical-align: middle;\n",
       "    }\n",
       "\n",
       "    .dataframe tbody tr th {\n",
       "        vertical-align: top;\n",
       "    }\n",
       "\n",
       "    .dataframe thead th {\n",
       "        text-align: right;\n",
       "    }\n",
       "</style>\n",
       "<table border=\"1\" class=\"dataframe\">\n",
       "  <thead>\n",
       "    <tr style=\"text-align: right;\">\n",
       "      <th></th>\n",
       "      <th>Date_Of_Death_Year</th>\n",
       "      <th>Date_Of_Death_Month</th>\n",
       "      <th>COVID19</th>\n",
       "      <th>Diabetes.uc</th>\n",
       "      <th>Diabetes.mc</th>\n",
       "      <th>C19PlusDiabetes</th>\n",
       "      <th>C19PlusHypertensiveDiseases</th>\n",
       "      <th>C19PlusMajorCardiovascularDiseases</th>\n",
       "      <th>C19PlusHypertensiveDiseasesAndMCVD</th>\n",
       "      <th>C19PlusChronicLowerRespiratoryDisease</th>\n",
       "      <th>C19PlusKidneyDisease</th>\n",
       "      <th>C19PlusChronicLiverDiseaseAndCirrhosis</th>\n",
       "      <th>C19PlusObesity</th>\n",
       "    </tr>\n",
       "  </thead>\n",
       "  <tbody>\n",
       "    <tr>\n",
       "      <th>count</th>\n",
       "      <td>226.0</td>\n",
       "      <td>226.000000</td>\n",
       "      <td>226.000000</td>\n",
       "      <td>226.000000</td>\n",
       "      <td>226.000000</td>\n",
       "      <td>226.000000</td>\n",
       "      <td>226.000000</td>\n",
       "      <td>226.000000</td>\n",
       "      <td>226.000000</td>\n",
       "      <td>226.000000</td>\n",
       "      <td>226.000000</td>\n",
       "      <td>226.000000</td>\n",
       "      <td>226.000000</td>\n",
       "    </tr>\n",
       "    <tr>\n",
       "      <th>mean</th>\n",
       "      <td>2020.0</td>\n",
       "      <td>4.955752</td>\n",
       "      <td>1710.955752</td>\n",
       "      <td>630.084071</td>\n",
       "      <td>2306.327434</td>\n",
       "      <td>280.800885</td>\n",
       "      <td>373.796460</td>\n",
       "      <td>796.712389</td>\n",
       "      <td>796.712389</td>\n",
       "      <td>146.955752</td>\n",
       "      <td>150.066372</td>\n",
       "      <td>13.920354</td>\n",
       "      <td>58.738938</td>\n",
       "    </tr>\n",
       "    <tr>\n",
       "      <th>std</th>\n",
       "      <td>0.0</td>\n",
       "      <td>2.581608</td>\n",
       "      <td>2542.191572</td>\n",
       "      <td>490.021920</td>\n",
       "      <td>1939.939655</td>\n",
       "      <td>367.529724</td>\n",
       "      <td>563.602518</td>\n",
       "      <td>1186.756477</td>\n",
       "      <td>1186.756477</td>\n",
       "      <td>211.710972</td>\n",
       "      <td>198.723348</td>\n",
       "      <td>19.359588</td>\n",
       "      <td>73.780865</td>\n",
       "    </tr>\n",
       "    <tr>\n",
       "      <th>min</th>\n",
       "      <td>2020.0</td>\n",
       "      <td>1.000000</td>\n",
       "      <td>0.000000</td>\n",
       "      <td>0.000000</td>\n",
       "      <td>0.000000</td>\n",
       "      <td>0.000000</td>\n",
       "      <td>0.000000</td>\n",
       "      <td>0.000000</td>\n",
       "      <td>0.000000</td>\n",
       "      <td>0.000000</td>\n",
       "      <td>0.000000</td>\n",
       "      <td>0.000000</td>\n",
       "      <td>0.000000</td>\n",
       "    </tr>\n",
       "    <tr>\n",
       "      <th>25%</th>\n",
       "      <td>2020.0</td>\n",
       "      <td>3.000000</td>\n",
       "      <td>3.000000</td>\n",
       "      <td>78.250000</td>\n",
       "      <td>163.500000</td>\n",
       "      <td>0.000000</td>\n",
       "      <td>0.000000</td>\n",
       "      <td>1.000000</td>\n",
       "      <td>1.000000</td>\n",
       "      <td>0.000000</td>\n",
       "      <td>0.000000</td>\n",
       "      <td>0.000000</td>\n",
       "      <td>0.250000</td>\n",
       "    </tr>\n",
       "    <tr>\n",
       "      <th>50%</th>\n",
       "      <td>2020.0</td>\n",
       "      <td>5.000000</td>\n",
       "      <td>503.000000</td>\n",
       "      <td>699.500000</td>\n",
       "      <td>2437.500000</td>\n",
       "      <td>90.500000</td>\n",
       "      <td>93.000000</td>\n",
       "      <td>190.500000</td>\n",
       "      <td>190.500000</td>\n",
       "      <td>28.000000</td>\n",
       "      <td>44.500000</td>\n",
       "      <td>6.000000</td>\n",
       "      <td>27.500000</td>\n",
       "    </tr>\n",
       "    <tr>\n",
       "      <th>75%</th>\n",
       "      <td>2020.0</td>\n",
       "      <td>7.000000</td>\n",
       "      <td>2624.000000</td>\n",
       "      <td>1071.000000</td>\n",
       "      <td>3880.000000</td>\n",
       "      <td>478.000000</td>\n",
       "      <td>568.750000</td>\n",
       "      <td>1212.750000</td>\n",
       "      <td>1212.750000</td>\n",
       "      <td>221.000000</td>\n",
       "      <td>263.250000</td>\n",
       "      <td>22.500000</td>\n",
       "      <td>92.750000</td>\n",
       "    </tr>\n",
       "    <tr>\n",
       "      <th>max</th>\n",
       "      <td>2020.0</td>\n",
       "      <td>9.000000</td>\n",
       "      <td>15882.000000</td>\n",
       "      <td>1569.000000</td>\n",
       "      <td>7200.000000</td>\n",
       "      <td>1521.000000</td>\n",
       "      <td>3274.000000</td>\n",
       "      <td>7001.000000</td>\n",
       "      <td>7001.000000</td>\n",
       "      <td>1094.000000</td>\n",
       "      <td>957.000000</td>\n",
       "      <td>89.000000</td>\n",
       "      <td>380.000000</td>\n",
       "    </tr>\n",
       "  </tbody>\n",
       "</table>\n",
       "</div>"
      ],
      "text/plain": [
       "       Date_Of_Death_Year  Date_Of_Death_Month       COVID19  Diabetes.uc  \\\n",
       "count               226.0           226.000000    226.000000   226.000000   \n",
       "mean               2020.0             4.955752   1710.955752   630.084071   \n",
       "std                   0.0             2.581608   2542.191572   490.021920   \n",
       "min                2020.0             1.000000      0.000000     0.000000   \n",
       "25%                2020.0             3.000000      3.000000    78.250000   \n",
       "50%                2020.0             5.000000    503.000000   699.500000   \n",
       "75%                2020.0             7.000000   2624.000000  1071.000000   \n",
       "max                2020.0             9.000000  15882.000000  1569.000000   \n",
       "\n",
       "       Diabetes.mc  C19PlusDiabetes  C19PlusHypertensiveDiseases  \\\n",
       "count   226.000000       226.000000                   226.000000   \n",
       "mean   2306.327434       280.800885                   373.796460   \n",
       "std    1939.939655       367.529724                   563.602518   \n",
       "min       0.000000         0.000000                     0.000000   \n",
       "25%     163.500000         0.000000                     0.000000   \n",
       "50%    2437.500000        90.500000                    93.000000   \n",
       "75%    3880.000000       478.000000                   568.750000   \n",
       "max    7200.000000      1521.000000                  3274.000000   \n",
       "\n",
       "       C19PlusMajorCardiovascularDiseases  C19PlusHypertensiveDiseasesAndMCVD  \\\n",
       "count                          226.000000                          226.000000   \n",
       "mean                           796.712389                          796.712389   \n",
       "std                           1186.756477                         1186.756477   \n",
       "min                              0.000000                            0.000000   \n",
       "25%                              1.000000                            1.000000   \n",
       "50%                            190.500000                          190.500000   \n",
       "75%                           1212.750000                         1212.750000   \n",
       "max                           7001.000000                         7001.000000   \n",
       "\n",
       "       C19PlusChronicLowerRespiratoryDisease  C19PlusKidneyDisease  \\\n",
       "count                             226.000000            226.000000   \n",
       "mean                              146.955752            150.066372   \n",
       "std                               211.710972            198.723348   \n",
       "min                                 0.000000              0.000000   \n",
       "25%                                 0.000000              0.000000   \n",
       "50%                                28.000000             44.500000   \n",
       "75%                               221.000000            263.250000   \n",
       "max                              1094.000000            957.000000   \n",
       "\n",
       "       C19PlusChronicLiverDiseaseAndCirrhosis  C19PlusObesity  \n",
       "count                              226.000000      226.000000  \n",
       "mean                                13.920354       58.738938  \n",
       "std                                 19.359588       73.780865  \n",
       "min                                  0.000000        0.000000  \n",
       "25%                                  0.000000        0.250000  \n",
       "50%                                  6.000000       27.500000  \n",
       "75%                                 22.500000       92.750000  \n",
       "max                                 89.000000      380.000000  "
      ]
     },
     "execution_count": 3,
     "metadata": {},
     "output_type": "execute_result"
    }
   ],
   "source": [
    "df.describe()"
   ]
  },
  {
   "cell_type": "markdown",
   "metadata": {},
   "source": [
    "# data cleaning"
   ]
  },
  {
   "cell_type": "code",
   "execution_count": 4,
   "metadata": {},
   "outputs": [
    {
     "data": {
      "text/plain": [
       "array(['<18 years', '18-29 years', '30-39 years', '40-49 years',\n",
       "       '50-59 years', '50-64 years', '60-69 years', '65-74 years',\n",
       "       '70-79 years', '75-84 years', '80+ years', '85+ years',\n",
       "       'Unknown age', nan], dtype=object)"
      ]
     },
     "execution_count": 4,
     "metadata": {},
     "output_type": "execute_result"
    }
   ],
   "source": [
    "df['AgeGroup'].unique()"
   ]
  },
  {
   "cell_type": "code",
   "execution_count": 5,
   "metadata": {},
   "outputs": [],
   "source": [
    "#deleting unnown age group\n",
    "df = df.drop(df[df[\"AgeGroup\"]=='Unknown age'].index)"
   ]
  },
  {
   "cell_type": "markdown",
   "metadata": {},
   "source": [
    "# missing value"
   ]
  },
  {
   "cell_type": "code",
   "execution_count": 6,
   "metadata": {},
   "outputs": [
    {
     "data": {
      "text/plain": [
       "Data as of                                0\n",
       "Date_Of_Death_Year                        0\n",
       "Date_Of_Death_Month                       0\n",
       "AgeGroup                                  1\n",
       "Sex                                       0\n",
       "COVID19                                   0\n",
       "Diabetes.uc                               0\n",
       "Diabetes.mc                               0\n",
       "C19PlusDiabetes                           0\n",
       "C19PlusHypertensiveDiseases               0\n",
       "C19PlusMajorCardiovascularDiseases        0\n",
       "C19PlusHypertensiveDiseasesAndMCVD        0\n",
       "C19PlusChronicLowerRespiratoryDisease     0\n",
       "C19PlusKidneyDisease                      0\n",
       "C19PlusChronicLiverDiseaseAndCirrhosis    0\n",
       "C19PlusObesity                            0\n",
       "dtype: int64"
      ]
     },
     "execution_count": 6,
     "metadata": {},
     "output_type": "execute_result"
    }
   ],
   "source": [
    "df.isna().sum()"
   ]
  },
  {
   "cell_type": "code",
   "execution_count": 7,
   "metadata": {},
   "outputs": [],
   "source": [
    "#Filling In Missing Data\n",
    "df= df.fillna(method='ffill')"
   ]
  },
  {
   "cell_type": "code",
   "execution_count": 8,
   "metadata": {},
   "outputs": [
    {
     "data": {
      "text/plain": [
       "Data as of                                0\n",
       "Date_Of_Death_Year                        0\n",
       "Date_Of_Death_Month                       0\n",
       "AgeGroup                                  0\n",
       "Sex                                       0\n",
       "COVID19                                   0\n",
       "Diabetes.uc                               0\n",
       "Diabetes.mc                               0\n",
       "C19PlusDiabetes                           0\n",
       "C19PlusHypertensiveDiseases               0\n",
       "C19PlusMajorCardiovascularDiseases        0\n",
       "C19PlusHypertensiveDiseasesAndMCVD        0\n",
       "C19PlusChronicLowerRespiratoryDisease     0\n",
       "C19PlusKidneyDisease                      0\n",
       "C19PlusChronicLiverDiseaseAndCirrhosis    0\n",
       "C19PlusObesity                            0\n",
       "dtype: int64"
      ]
     },
     "execution_count": 8,
     "metadata": {},
     "output_type": "execute_result"
    }
   ],
   "source": [
    "df.isna().sum()"
   ]
  },
  {
   "cell_type": "code",
   "execution_count": 9,
   "metadata": {},
   "outputs": [
    {
     "data": {
      "text/plain": [
       "0"
      ]
     },
     "execution_count": 9,
     "metadata": {},
     "output_type": "execute_result"
    }
   ],
   "source": [
    "df.duplicated().sum()"
   ]
  },
  {
   "cell_type": "code",
   "execution_count": 10,
   "metadata": {},
   "outputs": [],
   "source": [
    "# there is no duplicated data . great!!!"
   ]
  },
  {
   "cell_type": "markdown",
   "metadata": {},
   "source": [
    "# outliers"
   ]
  },
  {
   "cell_type": "code",
   "execution_count": 320,
   "metadata": {},
   "outputs": [],
   "source": [
    "def detect_outliers(df,features):\n",
    "    df_copy = df.drop(df[(df[features] == 0)].index)\n",
    "    # 1st quartile\n",
    "    q1 = df_copy[features].quantile(0.25)\n",
    "    # 3rd quartile\n",
    "    q3 = df_copy[features].quantile(0.75)\n",
    "    iqr = q3-q1\n",
    "    Lower_tail = q1 - 1.5 * iqr\n",
    "    Upper_tail = q3 + 1.5 * iqr\n",
    "    outlier_list_col = df_copy[(df_copy[features] >= Upper_tail) | (df_copy[features] <= Lower_tail)]  # | means \"or\"\n",
    "    return pd.DataFrame(outlier_list_col)\n",
    "    "
   ]
  },
  {
   "cell_type": "code",
   "execution_count": 321,
   "metadata": {},
   "outputs": [],
   "source": [
    "def upper_lower(df,features):\n",
    "    df_copy = df.drop(df[(df[features] == 0)].index)\n",
    "    # 1st quartile\n",
    "    q1 = df_copy[features].quantile(0.25)\n",
    "    # 3rd quartile\n",
    "    q3 = df_copy[features].quantile(0.75)\n",
    "    iqr = q3-q1\n",
    "    Lower_tail = q1 - 1.5 * iqr\n",
    "    Upper_tail = q3 + 1.5 * iqr\n",
    "    outlier_list_col = df_copy[(df_copy[features] >= Upper_tail) | (df_copy[features] <= Lower_tail)]  # | means \"or\"\n",
    "    return Upper_tail,Lower_tail"
   ]
  },
  {
   "cell_type": "code",
   "execution_count": 322,
   "metadata": {},
   "outputs": [
    {
     "data": {
      "text/html": [
       "<div>\n",
       "<style scoped>\n",
       "    .dataframe tbody tr th:only-of-type {\n",
       "        vertical-align: middle;\n",
       "    }\n",
       "\n",
       "    .dataframe tbody tr th {\n",
       "        vertical-align: top;\n",
       "    }\n",
       "\n",
       "    .dataframe thead th {\n",
       "        text-align: right;\n",
       "    }\n",
       "</style>\n",
       "<table border=\"1\" class=\"dataframe\">\n",
       "  <thead>\n",
       "    <tr style=\"text-align: right;\">\n",
       "      <th></th>\n",
       "      <th>Data as of</th>\n",
       "      <th>Date_Of_Death_Year</th>\n",
       "      <th>Date_Of_Death_Month</th>\n",
       "      <th>AgeGroup</th>\n",
       "      <th>Sex</th>\n",
       "      <th>COVID19</th>\n",
       "      <th>Diabetes.uc</th>\n",
       "      <th>Diabetes.mc</th>\n",
       "      <th>C19PlusDiabetes</th>\n",
       "      <th>C19PlusHypertensiveDiseases</th>\n",
       "      <th>C19PlusMajorCardiovascularDiseases</th>\n",
       "      <th>C19PlusHypertensiveDiseasesAndMCVD</th>\n",
       "      <th>C19PlusChronicLowerRespiratoryDisease</th>\n",
       "      <th>C19PlusKidneyDisease</th>\n",
       "      <th>C19PlusChronicLiverDiseaseAndCirrhosis</th>\n",
       "      <th>C19PlusObesity</th>\n",
       "    </tr>\n",
       "  </thead>\n",
       "  <tbody>\n",
       "  </tbody>\n",
       "</table>\n",
       "</div>"
      ],
      "text/plain": [
       "Empty DataFrame\n",
       "Columns: [Data as of, Date_Of_Death_Year, Date_Of_Death_Month, AgeGroup, Sex, COVID19, Diabetes.uc, Diabetes.mc, C19PlusDiabetes, C19PlusHypertensiveDiseases, C19PlusMajorCardiovascularDiseases, C19PlusHypertensiveDiseasesAndMCVD, C19PlusChronicLowerRespiratoryDisease, C19PlusKidneyDisease, C19PlusChronicLiverDiseaseAndCirrhosis, C19PlusObesity]\n",
       "Index: []"
      ]
     },
     "execution_count": 322,
     "metadata": {},
     "output_type": "execute_result"
    }
   ],
   "source": [
    "detect_outliers(df,'Diabetes.uc')"
   ]
  },
  {
   "cell_type": "code",
   "execution_count": 323,
   "metadata": {},
   "outputs": [
    {
     "data": {
      "text/html": [
       "<div>\n",
       "<style scoped>\n",
       "    .dataframe tbody tr th:only-of-type {\n",
       "        vertical-align: middle;\n",
       "    }\n",
       "\n",
       "    .dataframe tbody tr th {\n",
       "        vertical-align: top;\n",
       "    }\n",
       "\n",
       "    .dataframe thead th {\n",
       "        text-align: right;\n",
       "    }\n",
       "</style>\n",
       "<table border=\"1\" class=\"dataframe\">\n",
       "  <thead>\n",
       "    <tr style=\"text-align: right;\">\n",
       "      <th></th>\n",
       "      <th>Data as of</th>\n",
       "      <th>Date_Of_Death_Year</th>\n",
       "      <th>Date_Of_Death_Month</th>\n",
       "      <th>AgeGroup</th>\n",
       "      <th>Sex</th>\n",
       "      <th>COVID19</th>\n",
       "      <th>Diabetes.uc</th>\n",
       "      <th>Diabetes.mc</th>\n",
       "      <th>C19PlusDiabetes</th>\n",
       "      <th>C19PlusHypertensiveDiseases</th>\n",
       "      <th>C19PlusMajorCardiovascularDiseases</th>\n",
       "      <th>C19PlusHypertensiveDiseasesAndMCVD</th>\n",
       "      <th>C19PlusChronicLowerRespiratoryDisease</th>\n",
       "      <th>C19PlusKidneyDisease</th>\n",
       "      <th>C19PlusChronicLiverDiseaseAndCirrhosis</th>\n",
       "      <th>C19PlusObesity</th>\n",
       "    </tr>\n",
       "  </thead>\n",
       "  <tbody>\n",
       "  </tbody>\n",
       "</table>\n",
       "</div>"
      ],
      "text/plain": [
       "Empty DataFrame\n",
       "Columns: [Data as of, Date_Of_Death_Year, Date_Of_Death_Month, AgeGroup, Sex, COVID19, Diabetes.uc, Diabetes.mc, C19PlusDiabetes, C19PlusHypertensiveDiseases, C19PlusMajorCardiovascularDiseases, C19PlusHypertensiveDiseasesAndMCVD, C19PlusChronicLowerRespiratoryDisease, C19PlusKidneyDisease, C19PlusChronicLiverDiseaseAndCirrhosis, C19PlusObesity]\n",
       "Index: []"
      ]
     },
     "execution_count": 323,
     "metadata": {},
     "output_type": "execute_result"
    }
   ],
   "source": [
    "detect_outliers(df,'Diabetes.mc')"
   ]
  },
  {
   "cell_type": "markdown",
   "metadata": {},
   "source": [
    "# explotary data analysis"
   ]
  },
  {
   "cell_type": "code",
   "execution_count": 11,
   "metadata": {},
   "outputs": [
    {
     "data": {
      "text/plain": [
       "<AxesSubplot:ylabel='AgeGroup'>"
      ]
     },
     "execution_count": 11,
     "metadata": {},
     "output_type": "execute_result"
    },
    {
     "data": {
      "image/png": "[encoded data removed]",
      "text/plain": [
       "<Figure size 504x720 with 1 Axes>"
      ]
     },
     "metadata": {},
     "output_type": "display_data"
    }
   ],
   "source": [
    "# pie bar for sex\n",
    "round(df['AgeGroup'].value_counts()/ df.shape[0]*100,2).plot.pie(autopct = '%1.1f%%',\n",
    " figsize =(7, 10),colors=['#FFC4C4','#EE6983','#850E35'])"
   ]
  },
  {
   "cell_type": "code",
   "execution_count": 30,
   "metadata": {},
   "outputs": [
    {
     "data": {
      "image/png": "[encoded data removed]",
      "text/plain": [
       "<Figure size 720x576 with 1 Axes>"
      ]
     },
     "metadata": {
      "needs_background": "light"
     },
     "output_type": "display_data"
    }
   ],
   "source": [
    "plt.figure(figsize=(10, 8))\n",
    "\n",
    "plt.plot(df['Date_Of_Death_Month'], \n",
    "         df['COVID19'])\n",
    "\n",
    "\n",
    "plt.xlabel('month of death')\n",
    "plt.ylabel('covid 19')\n",
    "\n",
    "plt.show()"
   ]
  },
  {
   "cell_type": "code",
   "execution_count": 12,
   "metadata": {},
   "outputs": [
    {
     "data": {
      "image/png": "[encoded data removed]",
      "text/plain": [
       "<Figure size 1080x1440 with 16 Axes>"
      ]
     },
     "metadata": {
      "needs_background": "light"
     },
     "output_type": "display_data"
    }
   ],
   "source": [
    "# plot histograms for each numerical variable\n",
    "df.hist(figsize = (15, 20),color='b')\n",
    "plt.show()"
   ]
  },
  {
   "cell_type": "code",
   "execution_count": 13,
   "metadata": {},
   "outputs": [],
   "source": [
    "def diagnostic_plots(df, variable,target):\n",
    "    # The function takes a dataframe (df) and\n",
    "\n",
    "    # Define figure size.\n",
    "    plt.figure(figsize=(20, 4))\n",
    "\n",
    "    # histogram\n",
    "    plt.subplot(1, 4, 1)\n",
    "    sns.histplot(df[variable], bins=30,color = 'r')\n",
    "    plt.title('Histogram')\n",
    "\n",
    "\n",
    "    # scatterplot\n",
    "    plt.subplot(1, 4, 2)\n",
    "    plt.scatter(df[variable],df[target],color = 'g')\n",
    "    plt.title('Scatterplot')\n",
    "    \n",
    "    \n",
    "    # boxplot\n",
    "    plt.subplot(1, 4, 3)\n",
    "    sns.boxplot(y=df[variable],color = 'b')\n",
    "    plt.title('Boxplot')\n",
    "    \n",
    " \n",
    "    \n",
    "    \n",
    "    plt.show()"
   ]
  },
  {
   "cell_type": "code",
   "execution_count": 14,
   "metadata": {},
   "outputs": [
    {
     "data": {
      "image/png": "[encoded data removed]",
      "text/plain": [
       "<Figure size 1440x288 with 3 Axes>"
      ]
     },
     "metadata": {
      "needs_background": "light"
     },
     "output_type": "display_data"
    }
   ],
   "source": [
    "diagnostic_plots(df,'Diabetes.uc','C19PlusObesity' )"
   ]
  },
  {
   "cell_type": "code",
   "execution_count": 15,
   "metadata": {},
   "outputs": [
    {
     "data": {
      "text/plain": [
       "<AxesSubplot:xlabel='C19PlusDiabetes', ylabel='AgeGroup'>"
      ]
     },
     "execution_count": 15,
     "metadata": {},
     "output_type": "execute_result"
    },
    {
     "data": {
      "image/png": "[encoded data removed]",
      "text/plain": [
       "<Figure size 1800x720 with 1 Axes>"
      ]
     },
     "metadata": {
      "needs_background": "light"
     },
     "output_type": "display_data"
    }
   ],
   "source": [
    "fig, ax = plt.subplots(figsize=(25,10))\n",
    "\n",
    "sns.boxplot(x='C19PlusDiabetes', y='AgeGroup', hue='Sex', data=df, ax=ax)"
   ]
  },
  {
   "cell_type": "code",
   "execution_count": 16,
   "metadata": {},
   "outputs": [],
   "source": [
    "# predictin of covid 19 from 'Diabetes.mc','Diabetes.uc'"
   ]
  },
  {
   "cell_type": "code",
   "execution_count": 17,
   "metadata": {},
   "outputs": [
    {
     "data": {
      "text/html": [
       "<div>\n",
       "<style scoped>\n",
       "    .dataframe tbody tr th:only-of-type {\n",
       "        vertical-align: middle;\n",
       "    }\n",
       "\n",
       "    .dataframe tbody tr th {\n",
       "        vertical-align: top;\n",
       "    }\n",
       "\n",
       "    .dataframe thead th {\n",
       "        text-align: right;\n",
       "    }\n",
       "</style>\n",
       "<table border=\"1\" class=\"dataframe\">\n",
       "  <thead>\n",
       "    <tr style=\"text-align: right;\">\n",
       "      <th></th>\n",
       "      <th>Diabetes.mc</th>\n",
       "      <th>Diabetes.uc</th>\n",
       "    </tr>\n",
       "  </thead>\n",
       "  <tbody>\n",
       "    <tr>\n",
       "      <th>0</th>\n",
       "      <td>5</td>\n",
       "      <td>3</td>\n",
       "    </tr>\n",
       "    <tr>\n",
       "      <th>1</th>\n",
       "      <td>3</td>\n",
       "      <td>3</td>\n",
       "    </tr>\n",
       "    <tr>\n",
       "      <th>2</th>\n",
       "      <td>36</td>\n",
       "      <td>20</td>\n",
       "    </tr>\n",
       "    <tr>\n",
       "      <th>3</th>\n",
       "      <td>65</td>\n",
       "      <td>44</td>\n",
       "    </tr>\n",
       "    <tr>\n",
       "      <th>4</th>\n",
       "      <td>104</td>\n",
       "      <td>53</td>\n",
       "    </tr>\n",
       "    <tr>\n",
       "      <th>...</th>\n",
       "      <td>...</td>\n",
       "      <td>...</td>\n",
       "    </tr>\n",
       "    <tr>\n",
       "      <th>221</th>\n",
       "      <td>3925</td>\n",
       "      <td>956</td>\n",
       "    </tr>\n",
       "    <tr>\n",
       "      <th>222</th>\n",
       "      <td>4809</td>\n",
       "      <td>1201</td>\n",
       "    </tr>\n",
       "    <tr>\n",
       "      <th>223</th>\n",
       "      <td>4387</td>\n",
       "      <td>1053</td>\n",
       "    </tr>\n",
       "    <tr>\n",
       "      <th>224</th>\n",
       "      <td>3204</td>\n",
       "      <td>806</td>\n",
       "    </tr>\n",
       "    <tr>\n",
       "      <th>225</th>\n",
       "      <td>2571</td>\n",
       "      <td>620</td>\n",
       "    </tr>\n",
       "  </tbody>\n",
       "</table>\n",
       "<p>217 rows × 2 columns</p>\n",
       "</div>"
      ],
      "text/plain": [
       "     Diabetes.mc  Diabetes.uc\n",
       "0              5            3\n",
       "1              3            3\n",
       "2             36           20\n",
       "3             65           44\n",
       "4            104           53\n",
       "..           ...          ...\n",
       "221         3925          956\n",
       "222         4809         1201\n",
       "223         4387         1053\n",
       "224         3204          806\n",
       "225         2571          620\n",
       "\n",
       "[217 rows x 2 columns]"
      ]
     },
     "execution_count": 17,
     "metadata": {},
     "output_type": "execute_result"
    }
   ],
   "source": [
    "#regression multiple\n",
    "df_features = ['Diabetes.mc','Diabetes.uc']\n",
    "x=df[df_features]\n",
    "x"
   ]
  },
  {
   "cell_type": "code",
   "execution_count": 18,
   "metadata": {},
   "outputs": [
    {
     "data": {
      "text/plain": [
       "0         0\n",
       "1         0\n",
       "2         0\n",
       "3         0\n",
       "4         0\n",
       "       ... \n",
       "221    2525\n",
       "222    3847\n",
       "223    3277\n",
       "224    2778\n",
       "225    2036\n",
       "Name: COVID19, Length: 217, dtype: int64"
      ]
     },
     "execution_count": 18,
     "metadata": {},
     "output_type": "execute_result"
    }
   ],
   "source": [
    "y = df['COVID19']\n",
    "y"
   ]
  },
  {
   "cell_type": "code",
   "execution_count": 19,
   "metadata": {},
   "outputs": [
    {
     "name": "stdout",
     "output_type": "stream",
     "text": [
      "352.2524322804186 [  3.94008461 -12.24347368] 0.7262320389175432\n"
     ]
    }
   ],
   "source": [
    "#MULTIPLE linear regression model\n",
    "from sklearn.linear_model import LinearRegression\n",
    "\n",
    "#initiate linear regression model\n",
    "model = LinearRegression()\n",
    "#fit regression model\n",
    "model.fit(x, y)\n",
    "print(model.intercept_, model.coef_, model.score(x, y))\n"
   ]
  },
  {
   "cell_type": "code",
   "execution_count": 20,
   "metadata": {},
   "outputs": [
    {
     "name": "stdout",
     "output_type": "stream",
     "text": [
      "                            OLS Regression Results                            \n",
      "==============================================================================\n",
      "Dep. Variable:                COVID19   R-squared:                       0.726\n",
      "Model:                            OLS   Adj. R-squared:                  0.724\n",
      "Method:                 Least Squares   F-statistic:                     283.8\n",
      "Date:                Fri, 02 Sep 2022   Prob (F-statistic):           6.31e-61\n",
      "Time:                        11:59:14   Log-Likelihood:                -1870.7\n",
      "No. Observations:                 217   AIC:                             3747.\n",
      "Df Residuals:                     214   BIC:                             3757.\n",
      "Df Model:                           2                                         \n",
      "Covariance Type:            nonrobust                                         \n",
      "===============================================================================\n",
      "                  coef    std err          t      P>|t|      [0.025      0.975]\n",
      "-------------------------------------------------------------------------------\n",
      "const         352.2524    158.666      2.220      0.027      39.504     665.001\n",
      "Diabetes.mc     3.9401      0.225     17.499      0.000       3.496       4.384\n",
      "Diabetes.uc   -12.2435      0.896    -13.662      0.000     -14.010     -10.477\n",
      "==============================================================================\n",
      "Omnibus:                       33.715   Durbin-Watson:                   0.545\n",
      "Prob(Omnibus):                  0.000   Jarque-Bera (JB):              125.251\n",
      "Skew:                           0.534   Prob(JB):                     6.34e-28\n",
      "Kurtosis:                       6.565   Cond. No.                     5.50e+03\n",
      "==============================================================================\n",
      "\n",
      "Notes:\n",
      "[1] Standard Errors assume that the covariance matrix of the errors is correctly specified.\n",
      "[2] The condition number is large, 5.5e+03. This might indicate that there are\n",
      "strong multicollinearity or other numerical problems.\n"
     ]
    }
   ],
   "source": [
    "import statsmodels.api as sm\n",
    "#add constant to predictor variables\n",
    "x = sm.add_constant(x)\n",
    "\n",
    "#fit linear regression model\n",
    "model = sm.OLS(y, x).fit()\n",
    "\n",
    "#view model summary\n",
    "print(model.summary())\n",
    "#create Q-Q plot"
   ]
  },
  {
   "cell_type": "code",
   "execution_count": 21,
   "metadata": {},
   "outputs": [
    {
     "data": {
      "text/plain": [
       "((173, 3), (44, 3), (173,))"
      ]
     },
     "execution_count": 21,
     "metadata": {},
     "output_type": "execute_result"
    }
   ],
   "source": [
    "from sklearn.model_selection import train_test_split\n",
    "import sklearn\n",
    "from sklearn import preprocessing, svm\n",
    "# split data into training and validation data, for both features and target\n",
    "# The split is based on a random number generator. Supplying a numeric value to\n",
    "# the random_state argument guarantees we get the same split every time we\n",
    "# run this script.\n",
    "train_X, test_X, train_y, test_y = train_test_split(x, y, test_size = 0.2)\n",
    "train_X.shape, test_X.shape, train_y.shape\n"
   ]
  },
  {
   "cell_type": "code",
   "execution_count": 22,
   "metadata": {},
   "outputs": [
    {
     "name": "stdout",
     "output_type": "stream",
     "text": [
      "Training_score :  0.7439373142457532\n"
     ]
    },
    {
     "data": {
      "text/plain": [
       "Index(['const', 'Diabetes.mc', 'Diabetes.uc'], dtype='object')"
      ]
     },
     "execution_count": 22,
     "metadata": {},
     "output_type": "execute_result"
    }
   ],
   "source": [
    "# LINEAR REGRESSION ALGORITHM\n",
    "mdl3=LinearRegression(normalize=True, fit_intercept=False).fit(train_X,train_y)\n",
    "print(\"Training_score : \" , mdl3.score(train_X,train_y))\n",
    "#print(accuracy)\n",
    "predictors = train_X.columns\n",
    "predictors\n"
   ]
  },
  {
   "cell_type": "code",
   "execution_count": 23,
   "metadata": {},
   "outputs": [
    {
     "name": "stdout",
     "output_type": "stream",
     "text": [
      "Diabetes.uc    -11.859301\n",
      "Diabetes.mc      3.805160\n",
      "const          376.132762\n",
      "dtype: float64\n"
     ]
    }
   ],
   "source": [
    "coef = pd.Series(mdl3.coef_, predictors).sort_values()\n",
    "\n",
    "print(coef)"
   ]
  },
  {
   "cell_type": "code",
   "execution_count": 24,
   "metadata": {},
   "outputs": [
    {
     "data": {
      "text/html": [
       "<div>\n",
       "<style scoped>\n",
       "    .dataframe tbody tr th:only-of-type {\n",
       "        vertical-align: middle;\n",
       "    }\n",
       "\n",
       "    .dataframe tbody tr th {\n",
       "        vertical-align: top;\n",
       "    }\n",
       "\n",
       "    .dataframe thead th {\n",
       "        text-align: right;\n",
       "    }\n",
       "</style>\n",
       "<table border=\"1\" class=\"dataframe\">\n",
       "  <thead>\n",
       "    <tr style=\"text-align: right;\">\n",
       "      <th></th>\n",
       "      <th>predicted</th>\n",
       "      <th>actual</th>\n",
       "    </tr>\n",
       "  </thead>\n",
       "  <tbody>\n",
       "    <tr>\n",
       "      <th>149</th>\n",
       "      <td>4952.282434</td>\n",
       "      <td>3163</td>\n",
       "    </tr>\n",
       "    <tr>\n",
       "      <th>76</th>\n",
       "      <td>339.667215</td>\n",
       "      <td>9</td>\n",
       "    </tr>\n",
       "    <tr>\n",
       "      <th>28</th>\n",
       "      <td>256.019045</td>\n",
       "      <td>0</td>\n",
       "    </tr>\n",
       "    <tr>\n",
       "      <th>71</th>\n",
       "      <td>4222.169518</td>\n",
       "      <td>1234</td>\n",
       "    </tr>\n",
       "    <tr>\n",
       "      <th>168</th>\n",
       "      <td>3172.785679</td>\n",
       "      <td>3114</td>\n",
       "    </tr>\n",
       "  </tbody>\n",
       "</table>\n",
       "</div>"
      ],
      "text/plain": [
       "       predicted  actual\n",
       "149  4952.282434    3163\n",
       "76    339.667215       9\n",
       "28    256.019045       0\n",
       "71   4222.169518    1234\n",
       "168  3172.785679    3114"
      ]
     },
     "execution_count": 24,
     "metadata": {},
     "output_type": "execute_result"
    }
   ],
   "source": [
    "y_pred = mdl3.predict(test_X)\n",
    "df_pred_actual = pd.DataFrame({'predicted': y_pred, 'actual': test_y})\n",
    "df_pred_actual.head(5)"
   ]
  },
  {
   "cell_type": "code",
   "execution_count": 25,
   "metadata": {},
   "outputs": [
    {
     "name": "stdout",
     "output_type": "stream",
     "text": [
      "Testing_score :  0.6820000956000738\n"
     ]
    }
   ],
   "source": [
    "from sklearn.metrics import r2_score\n",
    "\n",
    "print(\"Testing_score : \", r2_score(test_y, y_pred))"
   ]
  },
  {
   "cell_type": "code",
   "execution_count": 26,
   "metadata": {},
   "outputs": [
    {
     "data": {
      "text/html": [
       "<div>\n",
       "<style scoped>\n",
       "    .dataframe tbody tr th:only-of-type {\n",
       "        vertical-align: middle;\n",
       "    }\n",
       "\n",
       "    .dataframe tbody tr th {\n",
       "        vertical-align: top;\n",
       "    }\n",
       "\n",
       "    .dataframe thead th {\n",
       "        text-align: right;\n",
       "    }\n",
       "</style>\n",
       "<table border=\"1\" class=\"dataframe\">\n",
       "  <thead>\n",
       "    <tr style=\"text-align: right;\">\n",
       "      <th></th>\n",
       "      <th>index</th>\n",
       "      <th>predicted</th>\n",
       "      <th>actual</th>\n",
       "    </tr>\n",
       "  </thead>\n",
       "  <tbody>\n",
       "    <tr>\n",
       "      <th>0</th>\n",
       "      <td>146</td>\n",
       "      <td>2987.650772</td>\n",
       "      <td>2130</td>\n",
       "    </tr>\n",
       "    <tr>\n",
       "      <th>1</th>\n",
       "      <td>83</td>\n",
       "      <td>163.266963</td>\n",
       "      <td>1284</td>\n",
       "    </tr>\n",
       "    <tr>\n",
       "      <th>2</th>\n",
       "      <td>39</td>\n",
       "      <td>-893.584843</td>\n",
       "      <td>1</td>\n",
       "    </tr>\n",
       "    <tr>\n",
       "      <th>3</th>\n",
       "      <td>71</td>\n",
       "      <td>4222.169518</td>\n",
       "      <td>1234</td>\n",
       "    </tr>\n",
       "    <tr>\n",
       "      <th>4</th>\n",
       "      <td>117</td>\n",
       "      <td>3488.386455</td>\n",
       "      <td>4404</td>\n",
       "    </tr>\n",
       "    <tr>\n",
       "      <th>5</th>\n",
       "      <td>104</td>\n",
       "      <td>291.596948</td>\n",
       "      <td>37</td>\n",
       "    </tr>\n",
       "    <tr>\n",
       "      <th>6</th>\n",
       "      <td>113</td>\n",
       "      <td>943.041087</td>\n",
       "      <td>3380</td>\n",
       "    </tr>\n",
       "    <tr>\n",
       "      <th>7</th>\n",
       "      <td>197</td>\n",
       "      <td>5935.692097</td>\n",
       "      <td>6384</td>\n",
       "    </tr>\n",
       "    <tr>\n",
       "      <th>8</th>\n",
       "      <td>98</td>\n",
       "      <td>6474.398032</td>\n",
       "      <td>11870</td>\n",
       "    </tr>\n",
       "    <tr>\n",
       "      <th>9</th>\n",
       "      <td>87</td>\n",
       "      <td>2551.305662</td>\n",
       "      <td>6318</td>\n",
       "    </tr>\n",
       "    <tr>\n",
       "      <th>10</th>\n",
       "      <td>37</td>\n",
       "      <td>-1666.345371</td>\n",
       "      <td>4</td>\n",
       "    </tr>\n",
       "    <tr>\n",
       "      <th>11</th>\n",
       "      <td>102</td>\n",
       "      <td>359.580657</td>\n",
       "      <td>6</td>\n",
       "    </tr>\n",
       "    <tr>\n",
       "      <th>12</th>\n",
       "      <td>179</td>\n",
       "      <td>283.986629</td>\n",
       "      <td>48</td>\n",
       "    </tr>\n",
       "    <tr>\n",
       "      <th>13</th>\n",
       "      <td>13</td>\n",
       "      <td>-186.268991</td>\n",
       "      <td>1</td>\n",
       "    </tr>\n",
       "    <tr>\n",
       "      <th>14</th>\n",
       "      <td>142</td>\n",
       "      <td>1456.638392</td>\n",
       "      <td>1449</td>\n",
       "    </tr>\n",
       "    <tr>\n",
       "      <th>15</th>\n",
       "      <td>153</td>\n",
       "      <td>343.916197</td>\n",
       "      <td>16</td>\n",
       "    </tr>\n",
       "    <tr>\n",
       "      <th>16</th>\n",
       "      <td>131</td>\n",
       "      <td>182.200306</td>\n",
       "      <td>58</td>\n",
       "    </tr>\n",
       "    <tr>\n",
       "      <th>17</th>\n",
       "      <td>150</td>\n",
       "      <td>4212.461542</td>\n",
       "      <td>3408</td>\n",
       "    </tr>\n",
       "    <tr>\n",
       "      <th>18</th>\n",
       "      <td>177</td>\n",
       "      <td>363.829639</td>\n",
       "      <td>8</td>\n",
       "    </tr>\n",
       "    <tr>\n",
       "      <th>19</th>\n",
       "      <td>28</td>\n",
       "      <td>256.019045</td>\n",
       "      <td>0</td>\n",
       "    </tr>\n",
       "    <tr>\n",
       "      <th>20</th>\n",
       "      <td>206</td>\n",
       "      <td>239.721521</td>\n",
       "      <td>74</td>\n",
       "    </tr>\n",
       "    <tr>\n",
       "      <th>21</th>\n",
       "      <td>108</td>\n",
       "      <td>340.379176</td>\n",
       "      <td>286</td>\n",
       "    </tr>\n",
       "    <tr>\n",
       "      <th>22</th>\n",
       "      <td>42</td>\n",
       "      <td>709.633114</td>\n",
       "      <td>1</td>\n",
       "    </tr>\n",
       "    <tr>\n",
       "      <th>23</th>\n",
       "      <td>110</td>\n",
       "      <td>286.624895</td>\n",
       "      <td>852</td>\n",
       "    </tr>\n",
       "    <tr>\n",
       "      <th>24</th>\n",
       "      <td>222</td>\n",
       "      <td>4432.124581</td>\n",
       "      <td>3847</td>\n",
       "    </tr>\n",
       "    <tr>\n",
       "      <th>25</th>\n",
       "      <td>219</td>\n",
       "      <td>3494.521070</td>\n",
       "      <td>2534</td>\n",
       "    </tr>\n",
       "    <tr>\n",
       "      <th>26</th>\n",
       "      <td>17</td>\n",
       "      <td>1991.444827</td>\n",
       "      <td>0</td>\n",
       "    </tr>\n",
       "    <tr>\n",
       "      <th>27</th>\n",
       "      <td>70</td>\n",
       "      <td>3572.471668</td>\n",
       "      <td>1099</td>\n",
       "    </tr>\n",
       "    <tr>\n",
       "      <th>28</th>\n",
       "      <td>33</td>\n",
       "      <td>-307.313472</td>\n",
       "      <td>0</td>\n",
       "    </tr>\n",
       "    <tr>\n",
       "      <th>29</th>\n",
       "      <td>216</td>\n",
       "      <td>1267.770443</td>\n",
       "      <td>1545</td>\n",
       "    </tr>\n",
       "    <tr>\n",
       "      <th>30</th>\n",
       "      <td>159</td>\n",
       "      <td>280.652406</td>\n",
       "      <td>867</td>\n",
       "    </tr>\n",
       "    <tr>\n",
       "      <th>31</th>\n",
       "      <td>139</td>\n",
       "      <td>710.345075</td>\n",
       "      <td>1956</td>\n",
       "    </tr>\n",
       "    <tr>\n",
       "      <th>32</th>\n",
       "      <td>168</td>\n",
       "      <td>3172.785679</td>\n",
       "      <td>3114</td>\n",
       "    </tr>\n",
       "    <tr>\n",
       "      <th>33</th>\n",
       "      <td>96</td>\n",
       "      <td>9166.038300</td>\n",
       "      <td>15882</td>\n",
       "    </tr>\n",
       "    <tr>\n",
       "      <th>34</th>\n",
       "      <td>46</td>\n",
       "      <td>3446.405798</td>\n",
       "      <td>3</td>\n",
       "    </tr>\n",
       "  </tbody>\n",
       "</table>\n",
       "</div>"
      ],
      "text/plain": [
       "    index    predicted  actual\n",
       "0     146  2987.650772    2130\n",
       "1      83   163.266963    1284\n",
       "2      39  -893.584843       1\n",
       "3      71  4222.169518    1234\n",
       "4     117  3488.386455    4404\n",
       "5     104   291.596948      37\n",
       "6     113   943.041087    3380\n",
       "7     197  5935.692097    6384\n",
       "8      98  6474.398032   11870\n",
       "9      87  2551.305662    6318\n",
       "10     37 -1666.345371       4\n",
       "11    102   359.580657       6\n",
       "12    179   283.986629      48\n",
       "13     13  -186.268991       1\n",
       "14    142  1456.638392    1449\n",
       "15    153   343.916197      16\n",
       "16    131   182.200306      58\n",
       "17    150  4212.461542    3408\n",
       "18    177   363.829639       8\n",
       "19     28   256.019045       0\n",
       "20    206   239.721521      74\n",
       "21    108   340.379176     286\n",
       "22     42   709.633114       1\n",
       "23    110   286.624895     852\n",
       "24    222  4432.124581    3847\n",
       "25    219  3494.521070    2534\n",
       "26     17  1991.444827       0\n",
       "27     70  3572.471668    1099\n",
       "28     33  -307.313472       0\n",
       "29    216  1267.770443    1545\n",
       "30    159   280.652406     867\n",
       "31    139   710.345075    1956\n",
       "32    168  3172.785679    3114\n",
       "33     96  9166.038300   15882\n",
       "34     46  3446.405798       3"
      ]
     },
     "execution_count": 26,
     "metadata": {},
     "output_type": "execute_result"
    }
   ],
   "source": [
    "df_sample100= df_pred_actual.sample(35).reset_index()\n",
    "df_sample100"
   ]
  },
  {
   "cell_type": "code",
   "execution_count": 27,
   "metadata": {},
   "outputs": [
    {
     "data": {
      "image/png": "[encoded data removed]",
      "text/plain": [
       "<Figure size 1080x576 with 1 Axes>"
      ]
     },
     "metadata": {
      "needs_background": "light"
     },
     "output_type": "display_data"
    }
   ],
   "source": [
    "plt.figure(figsize = (15,8))\n",
    "\n",
    "plt.plot(df_sample100['predicted'], label='Predicted')\n",
    "plt.plot(df_sample100['actual'], label='Actual')\n",
    "\n",
    "plt.ylabel('covid')\n",
    "\n",
    "plt.legend()\n",
    "plt.show()"
   ]
  },
  {
   "cell_type": "code",
   "execution_count": null,
   "metadata": {},
   "outputs": [],
   "source": []
  },
  {
   "cell_type": "code",
   "execution_count": null,
   "metadata": {},
   "outputs": [],
   "source": []
  },
  {
   "cell_type": "code",
   "execution_count": null,
   "metadata": {},
   "outputs": [],
   "source": []
  },
  {
   "cell_type": "code",
   "execution_count": null,
   "metadata": {},
   "outputs": [],
   "source": []
  }
 ],
 "metadata": {
  "kernelspec": {
   "display_name": "Python 3",
   "language": "python",
   "name": "python3"
  },
  "language_info": {
   "codemirror_mode": {
    "name": "ipython",
    "version": 3
   },
   "file_extension": ".py",
   "mimetype": "text/x-python",
   "name": "python",
   "nbconvert_exporter": "python",
   "pygments_lexer": "ipython3",
   "version": "3.8.5"
  }
 },
 "nbformat": 4,
 "nbformat_minor": 4
}
