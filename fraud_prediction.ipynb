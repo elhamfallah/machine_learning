{
 "cells": [
  {
   "cell_type": "code",
   "execution_count": 35,
   "metadata": {},
   "outputs": [],
   "source": [
    "import numpy as np\n",
    "import matplotlib.pyplot as plt\n",
    "import pandas as pd\n",
    "import seaborn as sns"
   ]
  },
  {
   "cell_type": "code",
   "execution_count": 36,
   "metadata": {},
   "outputs": [
    {
     "data": {
      "text/html": [
       "<div>\n",
       "<style scoped>\n",
       "    .dataframe tbody tr th:only-of-type {\n",
       "        vertical-align: middle;\n",
       "    }\n",
       "\n",
       "    .dataframe tbody tr th {\n",
       "        vertical-align: top;\n",
       "    }\n",
       "\n",
       "    .dataframe thead th {\n",
       "        text-align: right;\n",
       "    }\n",
       "</style>\n",
       "<table border=\"1\" class=\"dataframe\">\n",
       "  <thead>\n",
       "    <tr style=\"text-align: right;\">\n",
       "      <th></th>\n",
       "      <th>index</th>\n",
       "      <th>step</th>\n",
       "      <th>type</th>\n",
       "      <th>amount</th>\n",
       "      <th>nameOrig</th>\n",
       "      <th>oldbalanceOrg</th>\n",
       "      <th>newbalanceOrig</th>\n",
       "      <th>nameDest</th>\n",
       "      <th>oldbalanceDest</th>\n",
       "      <th>newbalanceDest</th>\n",
       "      <th>isFraud</th>\n",
       "      <th>isFlaggedFraud</th>\n",
       "    </tr>\n",
       "  </thead>\n",
       "  <tbody>\n",
       "    <tr>\n",
       "      <th>0</th>\n",
       "      <td>1577509</td>\n",
       "      <td>155</td>\n",
       "      <td>CASH_OUT</td>\n",
       "      <td>427818.23</td>\n",
       "      <td>C1431817875</td>\n",
       "      <td>198219.00</td>\n",
       "      <td>0.00</td>\n",
       "      <td>C2131020093</td>\n",
       "      <td>0.00</td>\n",
       "      <td>427818.23</td>\n",
       "      <td>0</td>\n",
       "      <td>0</td>\n",
       "    </tr>\n",
       "    <tr>\n",
       "      <th>1</th>\n",
       "      <td>3869859</td>\n",
       "      <td>283</td>\n",
       "      <td>CASH_IN</td>\n",
       "      <td>68154.77</td>\n",
       "      <td>C397915380</td>\n",
       "      <td>2884459.21</td>\n",
       "      <td>2952613.98</td>\n",
       "      <td>C105277746</td>\n",
       "      <td>1030035.29</td>\n",
       "      <td>961880.52</td>\n",
       "      <td>0</td>\n",
       "      <td>0</td>\n",
       "    </tr>\n",
       "    <tr>\n",
       "      <th>2</th>\n",
       "      <td>5516324</td>\n",
       "      <td>380</td>\n",
       "      <td>CASH_OUT</td>\n",
       "      <td>80828.54</td>\n",
       "      <td>C809484944</td>\n",
       "      <td>0.00</td>\n",
       "      <td>0.00</td>\n",
       "      <td>C226553176</td>\n",
       "      <td>5149991.49</td>\n",
       "      <td>5230820.04</td>\n",
       "      <td>0</td>\n",
       "      <td>0</td>\n",
       "    </tr>\n",
       "    <tr>\n",
       "      <th>3</th>\n",
       "      <td>5490462</td>\n",
       "      <td>380</td>\n",
       "      <td>TRANSFER</td>\n",
       "      <td>106069.89</td>\n",
       "      <td>C1857104283</td>\n",
       "      <td>301258.00</td>\n",
       "      <td>195188.11</td>\n",
       "      <td>C1759851095</td>\n",
       "      <td>263816.83</td>\n",
       "      <td>369886.72</td>\n",
       "      <td>0</td>\n",
       "      <td>0</td>\n",
       "    </tr>\n",
       "    <tr>\n",
       "      <th>4</th>\n",
       "      <td>5606765</td>\n",
       "      <td>394</td>\n",
       "      <td>PAYMENT</td>\n",
       "      <td>34530.86</td>\n",
       "      <td>C1774638089</td>\n",
       "      <td>200755.00</td>\n",
       "      <td>166224.14</td>\n",
       "      <td>M1074240731</td>\n",
       "      <td>0.00</td>\n",
       "      <td>0.00</td>\n",
       "      <td>0</td>\n",
       "      <td>0</td>\n",
       "    </tr>\n",
       "  </tbody>\n",
       "</table>\n",
       "</div>"
      ],
      "text/plain": [
       "     index  step      type     amount     nameOrig  oldbalanceOrg  \\\n",
       "0  1577509   155  CASH_OUT  427818.23  C1431817875      198219.00   \n",
       "1  3869859   283   CASH_IN   68154.77   C397915380     2884459.21   \n",
       "2  5516324   380  CASH_OUT   80828.54   C809484944           0.00   \n",
       "3  5490462   380  TRANSFER  106069.89  C1857104283      301258.00   \n",
       "4  5606765   394   PAYMENT   34530.86  C1774638089      200755.00   \n",
       "\n",
       "   newbalanceOrig     nameDest  oldbalanceDest  newbalanceDest  isFraud  \\\n",
       "0            0.00  C2131020093            0.00       427818.23        0   \n",
       "1      2952613.98   C105277746      1030035.29       961880.52        0   \n",
       "2            0.00   C226553176      5149991.49      5230820.04        0   \n",
       "3       195188.11  C1759851095       263816.83       369886.72        0   \n",
       "4       166224.14  M1074240731            0.00            0.00        0   \n",
       "\n",
       "   isFlaggedFraud  \n",
       "0               0  \n",
       "1               0  \n",
       "2               0  \n",
       "3               0  \n",
       "4               0  "
      ]
     },
     "execution_count": 36,
     "metadata": {},
     "output_type": "execute_result"
    }
   ],
   "source": [
    "df = pd.read_csv('sampled_aml_df_3.csv')\n",
    "\n",
    "df.head()"
   ]
  },
  {
   "cell_type": "markdown",
   "metadata": {},
   "source": [
    "# explotary data analysis"
   ]
  },
  {
   "cell_type": "code",
   "execution_count": 37,
   "metadata": {},
   "outputs": [
    {
     "data": {
      "text/plain": [
       "(192500, 12)"
      ]
     },
     "execution_count": 37,
     "metadata": {},
     "output_type": "execute_result"
    }
   ],
   "source": [
    "df.shape"
   ]
  },
  {
   "cell_type": "code",
   "execution_count": 38,
   "metadata": {},
   "outputs": [
    {
     "name": "stdout",
     "output_type": "stream",
     "text": [
      "<class 'pandas.core.frame.DataFrame'>\n",
      "RangeIndex: 192500 entries, 0 to 192499\n",
      "Data columns (total 12 columns):\n",
      " #   Column          Non-Null Count   Dtype  \n",
      "---  ------          --------------   -----  \n",
      " 0   index           192500 non-null  int64  \n",
      " 1   step            192500 non-null  int64  \n",
      " 2   type            192500 non-null  object \n",
      " 3   amount          192500 non-null  float64\n",
      " 4   nameOrig        192500 non-null  object \n",
      " 5   oldbalanceOrg   192500 non-null  float64\n",
      " 6   newbalanceOrig  192500 non-null  float64\n",
      " 7   nameDest        192500 non-null  object \n",
      " 8   oldbalanceDest  192500 non-null  float64\n",
      " 9   newbalanceDest  192500 non-null  float64\n",
      " 10  isFraud         192500 non-null  int64  \n",
      " 11  isFlaggedFraud  192500 non-null  int64  \n",
      "dtypes: float64(5), int64(4), object(3)\n",
      "memory usage: 17.6+ MB\n"
     ]
    }
   ],
   "source": [
    "df.info()"
   ]
  },
  {
   "cell_type": "code",
   "execution_count": 39,
   "metadata": {},
   "outputs": [
    {
     "data": {
      "text/plain": [
       "index             0\n",
       "step              0\n",
       "type              0\n",
       "amount            0\n",
       "nameOrig          0\n",
       "oldbalanceOrg     0\n",
       "newbalanceOrig    0\n",
       "nameDest          0\n",
       "oldbalanceDest    0\n",
       "newbalanceDest    0\n",
       "isFraud           0\n",
       "isFlaggedFraud    0\n",
       "dtype: int64"
      ]
     },
     "execution_count": 39,
     "metadata": {},
     "output_type": "execute_result"
    }
   ],
   "source": [
    "df.isnull().sum()"
   ]
  },
  {
   "cell_type": "code",
   "execution_count": 40,
   "metadata": {},
   "outputs": [
    {
     "data": {
      "text/html": [
       "<div>\n",
       "<style scoped>\n",
       "    .dataframe tbody tr th:only-of-type {\n",
       "        vertical-align: middle;\n",
       "    }\n",
       "\n",
       "    .dataframe tbody tr th {\n",
       "        vertical-align: top;\n",
       "    }\n",
       "\n",
       "    .dataframe thead th {\n",
       "        text-align: right;\n",
       "    }\n",
       "</style>\n",
       "<table border=\"1\" class=\"dataframe\">\n",
       "  <thead>\n",
       "    <tr style=\"text-align: right;\">\n",
       "      <th></th>\n",
       "      <th>index</th>\n",
       "      <th>step</th>\n",
       "      <th>amount</th>\n",
       "      <th>oldbalanceOrg</th>\n",
       "      <th>newbalanceOrig</th>\n",
       "      <th>oldbalanceDest</th>\n",
       "      <th>newbalanceDest</th>\n",
       "      <th>isFraud</th>\n",
       "      <th>isFlaggedFraud</th>\n",
       "    </tr>\n",
       "  </thead>\n",
       "  <tbody>\n",
       "    <tr>\n",
       "      <th>count</th>\n",
       "      <td>1.925000e+05</td>\n",
       "      <td>192500.000000</td>\n",
       "      <td>1.925000e+05</td>\n",
       "      <td>1.925000e+05</td>\n",
       "      <td>1.925000e+05</td>\n",
       "      <td>1.925000e+05</td>\n",
       "      <td>1.925000e+05</td>\n",
       "      <td>192500.000000</td>\n",
       "      <td>192500.000000</td>\n",
       "    </tr>\n",
       "    <tr>\n",
       "      <th>mean</th>\n",
       "      <td>3.217914e+06</td>\n",
       "      <td>247.825377</td>\n",
       "      <td>2.261676e+05</td>\n",
       "      <td>8.616604e+05</td>\n",
       "      <td>8.270867e+05</td>\n",
       "      <td>1.084274e+06</td>\n",
       "      <td>1.230771e+06</td>\n",
       "      <td>0.038961</td>\n",
       "      <td>0.000083</td>\n",
       "    </tr>\n",
       "    <tr>\n",
       "      <th>std</th>\n",
       "      <td>1.861619e+06</td>\n",
       "      <td>147.685363</td>\n",
       "      <td>7.720697e+05</td>\n",
       "      <td>2.912266e+06</td>\n",
       "      <td>2.887263e+06</td>\n",
       "      <td>3.297716e+06</td>\n",
       "      <td>3.575349e+06</td>\n",
       "      <td>0.193503</td>\n",
       "      <td>0.009116</td>\n",
       "    </tr>\n",
       "    <tr>\n",
       "      <th>min</th>\n",
       "      <td>2.000000e+00</td>\n",
       "      <td>1.000000</td>\n",
       "      <td>0.000000e+00</td>\n",
       "      <td>0.000000e+00</td>\n",
       "      <td>0.000000e+00</td>\n",
       "      <td>0.000000e+00</td>\n",
       "      <td>0.000000e+00</td>\n",
       "      <td>0.000000</td>\n",
       "      <td>0.000000</td>\n",
       "    </tr>\n",
       "    <tr>\n",
       "      <th>25%</th>\n",
       "      <td>1.593112e+06</td>\n",
       "      <td>156.000000</td>\n",
       "      <td>1.401661e+04</td>\n",
       "      <td>0.000000e+00</td>\n",
       "      <td>0.000000e+00</td>\n",
       "      <td>0.000000e+00</td>\n",
       "      <td>0.000000e+00</td>\n",
       "      <td>0.000000</td>\n",
       "      <td>0.000000</td>\n",
       "    </tr>\n",
       "    <tr>\n",
       "      <th>50%</th>\n",
       "      <td>3.216306e+06</td>\n",
       "      <td>249.000000</td>\n",
       "      <td>8.060089e+04</td>\n",
       "      <td>1.696019e+04</td>\n",
       "      <td>0.000000e+00</td>\n",
       "      <td>1.144710e+05</td>\n",
       "      <td>2.091728e+05</td>\n",
       "      <td>0.000000</td>\n",
       "      <td>0.000000</td>\n",
       "    </tr>\n",
       "    <tr>\n",
       "      <th>75%</th>\n",
       "      <td>4.835272e+06</td>\n",
       "      <td>347.000000</td>\n",
       "      <td>2.188217e+05</td>\n",
       "      <td>1.336372e+05</td>\n",
       "      <td>1.290969e+05</td>\n",
       "      <td>9.127214e+05</td>\n",
       "      <td>1.115385e+06</td>\n",
       "      <td>0.000000</td>\n",
       "      <td>0.000000</td>\n",
       "    </tr>\n",
       "    <tr>\n",
       "      <th>max</th>\n",
       "      <td>6.362619e+06</td>\n",
       "      <td>743.000000</td>\n",
       "      <td>6.988673e+07</td>\n",
       "      <td>5.958504e+07</td>\n",
       "      <td>4.958504e+07</td>\n",
       "      <td>2.511150e+08</td>\n",
       "      <td>2.506381e+08</td>\n",
       "      <td>1.000000</td>\n",
       "      <td>1.000000</td>\n",
       "    </tr>\n",
       "  </tbody>\n",
       "</table>\n",
       "</div>"
      ],
      "text/plain": [
       "              index           step        amount  oldbalanceOrg  \\\n",
       "count  1.925000e+05  192500.000000  1.925000e+05   1.925000e+05   \n",
       "mean   3.217914e+06     247.825377  2.261676e+05   8.616604e+05   \n",
       "std    1.861619e+06     147.685363  7.720697e+05   2.912266e+06   \n",
       "min    2.000000e+00       1.000000  0.000000e+00   0.000000e+00   \n",
       "25%    1.593112e+06     156.000000  1.401661e+04   0.000000e+00   \n",
       "50%    3.216306e+06     249.000000  8.060089e+04   1.696019e+04   \n",
       "75%    4.835272e+06     347.000000  2.188217e+05   1.336372e+05   \n",
       "max    6.362619e+06     743.000000  6.988673e+07   5.958504e+07   \n",
       "\n",
       "       newbalanceOrig  oldbalanceDest  newbalanceDest        isFraud  \\\n",
       "count    1.925000e+05    1.925000e+05    1.925000e+05  192500.000000   \n",
       "mean     8.270867e+05    1.084274e+06    1.230771e+06       0.038961   \n",
       "std      2.887263e+06    3.297716e+06    3.575349e+06       0.193503   \n",
       "min      0.000000e+00    0.000000e+00    0.000000e+00       0.000000   \n",
       "25%      0.000000e+00    0.000000e+00    0.000000e+00       0.000000   \n",
       "50%      0.000000e+00    1.144710e+05    2.091728e+05       0.000000   \n",
       "75%      1.290969e+05    9.127214e+05    1.115385e+06       0.000000   \n",
       "max      4.958504e+07    2.511150e+08    2.506381e+08       1.000000   \n",
       "\n",
       "       isFlaggedFraud  \n",
       "count   192500.000000  \n",
       "mean         0.000083  \n",
       "std          0.009116  \n",
       "min          0.000000  \n",
       "25%          0.000000  \n",
       "50%          0.000000  \n",
       "75%          0.000000  \n",
       "max          1.000000  "
      ]
     },
     "execution_count": 40,
     "metadata": {},
     "output_type": "execute_result"
    }
   ],
   "source": [
    "df.describe()"
   ]
  },
  {
   "cell_type": "code",
   "execution_count": 64,
   "metadata": {},
   "outputs": [
    {
     "data": {
      "text/plain": [
       "type\n",
       "CASH_IN      1588281.27\n",
       "CASH_OUT    10000000.00\n",
       "DEBIT         408672.22\n",
       "PAYMENT       197201.17\n",
       "TRANSFER    69886731.30\n",
       "Name: amount, dtype: float64"
      ]
     },
     "execution_count": 64,
     "metadata": {},
     "output_type": "execute_result"
    }
   ],
   "source": [
    "#max amount in each type of transaction\n",
    "df['amount'].groupby(df['type']).max()"
   ]
  },
  {
   "cell_type": "code",
   "execution_count": 41,
   "metadata": {},
   "outputs": [
    {
     "data": {
      "text/plain": [
       "(168929, 192494)"
      ]
     },
     "execution_count": 41,
     "metadata": {},
     "output_type": "execute_result"
    }
   ],
   "source": [
    "# number of name dets and name origins\n",
    "df['nameDest'].nunique(), df['nameOrig'].nunique()"
   ]
  },
  {
   "cell_type": "code",
   "execution_count": 42,
   "metadata": {},
   "outputs": [
    {
     "data": {
      "text/html": [
       "<div>\n",
       "<style scoped>\n",
       "    .dataframe tbody tr th:only-of-type {\n",
       "        vertical-align: middle;\n",
       "    }\n",
       "\n",
       "    .dataframe tbody tr th {\n",
       "        vertical-align: top;\n",
       "    }\n",
       "\n",
       "    .dataframe thead th {\n",
       "        text-align: right;\n",
       "    }\n",
       "</style>\n",
       "<table border=\"1\" class=\"dataframe\">\n",
       "  <thead>\n",
       "    <tr style=\"text-align: right;\">\n",
       "      <th></th>\n",
       "      <th>step</th>\n",
       "      <th>type</th>\n",
       "      <th>amount</th>\n",
       "      <th>oldbalanceOrg</th>\n",
       "      <th>newbalanceOrig</th>\n",
       "      <th>oldbalanceDest</th>\n",
       "      <th>newbalanceDest</th>\n",
       "      <th>isFraud</th>\n",
       "      <th>isFlaggedFraud</th>\n",
       "    </tr>\n",
       "  </thead>\n",
       "  <tbody>\n",
       "    <tr>\n",
       "      <th>120086</th>\n",
       "      <td>258</td>\n",
       "      <td>PAYMENT</td>\n",
       "      <td>9940.00</td>\n",
       "      <td>0.00</td>\n",
       "      <td>0.00</td>\n",
       "      <td>0.00</td>\n",
       "      <td>0.00</td>\n",
       "      <td>0</td>\n",
       "      <td>0</td>\n",
       "    </tr>\n",
       "    <tr>\n",
       "      <th>89711</th>\n",
       "      <td>518</td>\n",
       "      <td>PAYMENT</td>\n",
       "      <td>1341.87</td>\n",
       "      <td>0.00</td>\n",
       "      <td>0.00</td>\n",
       "      <td>0.00</td>\n",
       "      <td>0.00</td>\n",
       "      <td>0</td>\n",
       "      <td>0</td>\n",
       "    </tr>\n",
       "    <tr>\n",
       "      <th>108164</th>\n",
       "      <td>34</td>\n",
       "      <td>CASH_OUT</td>\n",
       "      <td>203837.65</td>\n",
       "      <td>0.00</td>\n",
       "      <td>0.00</td>\n",
       "      <td>473979.16</td>\n",
       "      <td>677816.81</td>\n",
       "      <td>0</td>\n",
       "      <td>0</td>\n",
       "    </tr>\n",
       "    <tr>\n",
       "      <th>136266</th>\n",
       "      <td>8</td>\n",
       "      <td>CASH_OUT</td>\n",
       "      <td>32025.42</td>\n",
       "      <td>21138.00</td>\n",
       "      <td>0.00</td>\n",
       "      <td>0.00</td>\n",
       "      <td>32025.42</td>\n",
       "      <td>0</td>\n",
       "      <td>0</td>\n",
       "    </tr>\n",
       "    <tr>\n",
       "      <th>98358</th>\n",
       "      <td>11</td>\n",
       "      <td>PAYMENT</td>\n",
       "      <td>19598.84</td>\n",
       "      <td>1192108.08</td>\n",
       "      <td>1172509.23</td>\n",
       "      <td>0.00</td>\n",
       "      <td>0.00</td>\n",
       "      <td>0</td>\n",
       "      <td>0</td>\n",
       "    </tr>\n",
       "  </tbody>\n",
       "</table>\n",
       "</div>"
      ],
      "text/plain": [
       "        step      type     amount  oldbalanceOrg  newbalanceOrig  \\\n",
       "120086   258   PAYMENT    9940.00           0.00            0.00   \n",
       "89711    518   PAYMENT    1341.87           0.00            0.00   \n",
       "108164    34  CASH_OUT  203837.65           0.00            0.00   \n",
       "136266     8  CASH_OUT   32025.42       21138.00            0.00   \n",
       "98358     11   PAYMENT   19598.84     1192108.08      1172509.23   \n",
       "\n",
       "        oldbalanceDest  newbalanceDest  isFraud  isFlaggedFraud  \n",
       "120086            0.00            0.00        0               0  \n",
       "89711             0.00            0.00        0               0  \n",
       "108164       473979.16       677816.81        0               0  \n",
       "136266            0.00        32025.42        0               0  \n",
       "98358             0.00            0.00        0               0  "
      ]
     },
     "execution_count": 42,
     "metadata": {},
     "output_type": "execute_result"
    }
   ],
   "source": [
    "df = df.drop(labels = ['index' , 'nameOrig', 'nameDest'], axis = 1)\n",
    "\n",
    "df.sample(5)"
   ]
  },
  {
   "cell_type": "code",
   "execution_count": 43,
   "metadata": {},
   "outputs": [
    {
     "data": {
      "text/plain": [
       "0    185000\n",
       "1      7500\n",
       "Name: isFraud, dtype: int64"
      ]
     },
     "execution_count": 43,
     "metadata": {},
     "output_type": "execute_result"
    }
   ],
   "source": [
    "df['isFraud'].value_counts()"
   ]
  },
  {
   "cell_type": "code",
   "execution_count": 69,
   "metadata": {},
   "outputs": [
    {
     "data": {
      "text/html": [
       "<div>\n",
       "<style scoped>\n",
       "    .dataframe tbody tr th:only-of-type {\n",
       "        vertical-align: middle;\n",
       "    }\n",
       "\n",
       "    .dataframe tbody tr th {\n",
       "        vertical-align: top;\n",
       "    }\n",
       "\n",
       "    .dataframe thead th {\n",
       "        text-align: right;\n",
       "    }\n",
       "</style>\n",
       "<table border=\"1\" class=\"dataframe\">\n",
       "  <thead>\n",
       "    <tr style=\"text-align: right;\">\n",
       "      <th></th>\n",
       "      <th></th>\n",
       "      <th>step</th>\n",
       "      <th>amount</th>\n",
       "      <th>oldbalanceOrg</th>\n",
       "      <th>newbalanceOrig</th>\n",
       "      <th>oldbalanceDest</th>\n",
       "      <th>newbalanceDest</th>\n",
       "      <th>isFlaggedFraud</th>\n",
       "    </tr>\n",
       "    <tr>\n",
       "      <th>type</th>\n",
       "      <th>isFraud</th>\n",
       "      <th></th>\n",
       "      <th></th>\n",
       "      <th></th>\n",
       "      <th></th>\n",
       "      <th></th>\n",
       "      <th></th>\n",
       "      <th></th>\n",
       "    </tr>\n",
       "  </thead>\n",
       "  <tbody>\n",
       "    <tr>\n",
       "      <th>CASH_IN</th>\n",
       "      <th>0</th>\n",
       "      <td>244.998442</td>\n",
       "      <td>1.679970e+05</td>\n",
       "      <td>3.601334e+06</td>\n",
       "      <td>3.769326e+06</td>\n",
       "      <td>1.612253e+06</td>\n",
       "      <td>1.493804e+06</td>\n",
       "      <td>0.000000</td>\n",
       "    </tr>\n",
       "    <tr>\n",
       "      <th rowspan=\"2\" valign=\"top\">CASH_OUT</th>\n",
       "      <th>0</th>\n",
       "      <td>240.244046</td>\n",
       "      <td>1.741211e+05</td>\n",
       "      <td>4.378006e+04</td>\n",
       "      <td>1.809364e+04</td>\n",
       "      <td>1.515847e+06</td>\n",
       "      <td>1.707189e+06</td>\n",
       "      <td>0.000000</td>\n",
       "    </tr>\n",
       "    <tr>\n",
       "      <th>1</th>\n",
       "      <td>367.316892</td>\n",
       "      <td>1.436458e+06</td>\n",
       "      <td>1.435118e+06</td>\n",
       "      <td>7.922769e+01</td>\n",
       "      <td>1.100083e+06</td>\n",
       "      <td>2.544684e+06</td>\n",
       "      <td>0.000000</td>\n",
       "    </tr>\n",
       "    <tr>\n",
       "      <th>DEBIT</th>\n",
       "      <th>0</th>\n",
       "      <td>240.713460</td>\n",
       "      <td>5.944322e+03</td>\n",
       "      <td>6.537474e+04</td>\n",
       "      <td>6.167146e+04</td>\n",
       "      <td>1.751657e+06</td>\n",
       "      <td>1.776573e+06</td>\n",
       "      <td>0.000000</td>\n",
       "    </tr>\n",
       "    <tr>\n",
       "      <th>PAYMENT</th>\n",
       "      <th>0</th>\n",
       "      <td>243.574340</td>\n",
       "      <td>1.313828e+04</td>\n",
       "      <td>6.854363e+04</td>\n",
       "      <td>6.208227e+04</td>\n",
       "      <td>0.000000e+00</td>\n",
       "      <td>0.000000e+00</td>\n",
       "      <td>0.000000</td>\n",
       "    </tr>\n",
       "    <tr>\n",
       "      <th rowspan=\"2\" valign=\"top\">TRANSFER</th>\n",
       "      <th>0</th>\n",
       "      <td>246.495393</td>\n",
       "      <td>8.843084e+05</td>\n",
       "      <td>3.996599e+04</td>\n",
       "      <td>7.149212e+03</td>\n",
       "      <td>2.503439e+06</td>\n",
       "      <td>3.479945e+06</td>\n",
       "      <td>0.000000</td>\n",
       "    </tr>\n",
       "    <tr>\n",
       "      <th>1</th>\n",
       "      <td>369.424242</td>\n",
       "      <td>1.483252e+06</td>\n",
       "      <td>1.863654e+06</td>\n",
       "      <td>4.020807e+05</td>\n",
       "      <td>5.402276e+02</td>\n",
       "      <td>3.221374e+03</td>\n",
       "      <td>0.004291</td>\n",
       "    </tr>\n",
       "  </tbody>\n",
       "</table>\n",
       "</div>"
      ],
      "text/plain": [
       "                        step        amount  oldbalanceOrg  newbalanceOrig  \\\n",
       "type     isFraud                                                            \n",
       "CASH_IN  0        244.998442  1.679970e+05   3.601334e+06    3.769326e+06   \n",
       "CASH_OUT 0        240.244046  1.741211e+05   4.378006e+04    1.809364e+04   \n",
       "         1        367.316892  1.436458e+06   1.435118e+06    7.922769e+01   \n",
       "DEBIT    0        240.713460  5.944322e+03   6.537474e+04    6.167146e+04   \n",
       "PAYMENT  0        243.574340  1.313828e+04   6.854363e+04    6.208227e+04   \n",
       "TRANSFER 0        246.495393  8.843084e+05   3.996599e+04    7.149212e+03   \n",
       "         1        369.424242  1.483252e+06   1.863654e+06    4.020807e+05   \n",
       "\n",
       "                  oldbalanceDest  newbalanceDest  isFlaggedFraud  \n",
       "type     isFraud                                                  \n",
       "CASH_IN  0          1.612253e+06    1.493804e+06        0.000000  \n",
       "CASH_OUT 0          1.515847e+06    1.707189e+06        0.000000  \n",
       "         1          1.100083e+06    2.544684e+06        0.000000  \n",
       "DEBIT    0          1.751657e+06    1.776573e+06        0.000000  \n",
       "PAYMENT  0          0.000000e+00    0.000000e+00        0.000000  \n",
       "TRANSFER 0          2.503439e+06    3.479945e+06        0.000000  \n",
       "         1          5.402276e+02    3.221374e+03        0.004291  "
      ]
     },
     "execution_count": 69,
     "metadata": {},
     "output_type": "execute_result"
    }
   ],
   "source": [
    "# avrage of variables in rancaction types and fraud\n",
    "h = df.groupby(['type', 'isFraud'])\n",
    "h.mean()"
   ]
  },
  {
   "cell_type": "code",
   "execution_count": 70,
   "metadata": {},
   "outputs": [
    {
     "data": {
      "text/html": [
       "<div>\n",
       "<style scoped>\n",
       "    .dataframe tbody tr th:only-of-type {\n",
       "        vertical-align: middle;\n",
       "    }\n",
       "\n",
       "    .dataframe tbody tr th {\n",
       "        vertical-align: top;\n",
       "    }\n",
       "\n",
       "    .dataframe thead th {\n",
       "        text-align: right;\n",
       "    }\n",
       "</style>\n",
       "<table border=\"1\" class=\"dataframe\">\n",
       "  <thead>\n",
       "    <tr style=\"text-align: right;\">\n",
       "      <th></th>\n",
       "      <th>step</th>\n",
       "      <th>amount</th>\n",
       "      <th>oldbalanceOrg</th>\n",
       "      <th>newbalanceOrig</th>\n",
       "      <th>oldbalanceDest</th>\n",
       "      <th>newbalanceDest</th>\n",
       "      <th>isFraud</th>\n",
       "      <th>isFlaggedFraud</th>\n",
       "    </tr>\n",
       "    <tr>\n",
       "      <th>type</th>\n",
       "      <th></th>\n",
       "      <th></th>\n",
       "      <th></th>\n",
       "      <th></th>\n",
       "      <th></th>\n",
       "      <th></th>\n",
       "      <th></th>\n",
       "      <th></th>\n",
       "    </tr>\n",
       "  </thead>\n",
       "  <tbody>\n",
       "    <tr>\n",
       "      <th>CASH_IN</th>\n",
       "      <td>244.998442</td>\n",
       "      <td>1.679970e+05</td>\n",
       "      <td>3.601334e+06</td>\n",
       "      <td>3.769326e+06</td>\n",
       "      <td>1.612253e+06</td>\n",
       "      <td>1.493804e+06</td>\n",
       "      <td>0.000000</td>\n",
       "      <td>0.000000</td>\n",
       "    </tr>\n",
       "    <tr>\n",
       "      <th>CASH_OUT</th>\n",
       "      <td>247.203276</td>\n",
       "      <td>2.432538e+05</td>\n",
       "      <td>1.199776e+05</td>\n",
       "      <td>1.710707e+04</td>\n",
       "      <td>1.493078e+06</td>\n",
       "      <td>1.753055e+06</td>\n",
       "      <td>0.054766</td>\n",
       "      <td>0.000000</td>\n",
       "    </tr>\n",
       "    <tr>\n",
       "      <th>DEBIT</th>\n",
       "      <td>240.713460</td>\n",
       "      <td>5.944322e+03</td>\n",
       "      <td>6.537474e+04</td>\n",
       "      <td>6.167146e+04</td>\n",
       "      <td>1.751657e+06</td>\n",
       "      <td>1.776573e+06</td>\n",
       "      <td>0.000000</td>\n",
       "      <td>0.000000</td>\n",
       "    </tr>\n",
       "    <tr>\n",
       "      <th>PAYMENT</th>\n",
       "      <td>243.574340</td>\n",
       "      <td>1.313828e+04</td>\n",
       "      <td>6.854363e+04</td>\n",
       "      <td>6.208227e+04</td>\n",
       "      <td>0.000000e+00</td>\n",
       "      <td>0.000000e+00</td>\n",
       "      <td>0.000000</td>\n",
       "      <td>0.000000</td>\n",
       "    </tr>\n",
       "    <tr>\n",
       "      <th>TRANSFER</th>\n",
       "      <td>270.444073</td>\n",
       "      <td>1.000993e+06</td>\n",
       "      <td>3.952521e+05</td>\n",
       "      <td>8.408874e+04</td>\n",
       "      <td>2.015831e+06</td>\n",
       "      <td>2.802618e+06</td>\n",
       "      <td>0.194817</td>\n",
       "      <td>0.000836</td>\n",
       "    </tr>\n",
       "  </tbody>\n",
       "</table>\n",
       "</div>"
      ],
      "text/plain": [
       "                step        amount  oldbalanceOrg  newbalanceOrig  \\\n",
       "type                                                                \n",
       "CASH_IN   244.998442  1.679970e+05   3.601334e+06    3.769326e+06   \n",
       "CASH_OUT  247.203276  2.432538e+05   1.199776e+05    1.710707e+04   \n",
       "DEBIT     240.713460  5.944322e+03   6.537474e+04    6.167146e+04   \n",
       "PAYMENT   243.574340  1.313828e+04   6.854363e+04    6.208227e+04   \n",
       "TRANSFER  270.444073  1.000993e+06   3.952521e+05    8.408874e+04   \n",
       "\n",
       "          oldbalanceDest  newbalanceDest   isFraud  isFlaggedFraud  \n",
       "type                                                                \n",
       "CASH_IN     1.612253e+06    1.493804e+06  0.000000        0.000000  \n",
       "CASH_OUT    1.493078e+06    1.753055e+06  0.054766        0.000000  \n",
       "DEBIT       1.751657e+06    1.776573e+06  0.000000        0.000000  \n",
       "PAYMENT     0.000000e+00    0.000000e+00  0.000000        0.000000  \n",
       "TRANSFER    2.015831e+06    2.802618e+06  0.194817        0.000836  "
      ]
     },
     "execution_count": 70,
     "metadata": {},
     "output_type": "execute_result"
    }
   ],
   "source": [
    "df_style= df.groupby('type').mean()\n",
    "df_style"
   ]
  },
  {
   "cell_type": "code",
   "execution_count": 71,
   "metadata": {},
   "outputs": [
    {
     "data": {
      "text/plain": [
       "step              2.704441e+02\n",
       "amount            1.000993e+06\n",
       "oldbalanceOrg     3.601334e+06\n",
       "newbalanceOrig    3.769326e+06\n",
       "oldbalanceDest    2.015831e+06\n",
       "newbalanceDest    2.802618e+06\n",
       "isFraud           1.948174e-01\n",
       "isFlaggedFraud    8.359020e-04\n",
       "dtype: float64"
      ]
     },
     "execution_count": 71,
     "metadata": {},
     "output_type": "execute_result"
    }
   ],
   "source": [
    "df_style.max()"
   ]
  },
  {
   "cell_type": "code",
   "execution_count": 10,
   "metadata": {},
   "outputs": [
    {
     "data": {
      "image/png": "[encoded data removed]",
      "text/plain": [
       "<Figure size 576x576 with 1 Axes>"
      ]
     },
     "metadata": {
      "needs_background": "light"
     },
     "output_type": "display_data"
    }
   ],
   "source": [
    "plt.figure(figsize = (8, 8))\n",
    "\n",
    "sns.countplot(x='isFraud', data = df);"
   ]
  },
  {
   "cell_type": "code",
   "execution_count": 55,
   "metadata": {},
   "outputs": [
    {
     "data": {
      "text/html": [
       "<div>\n",
       "<style scoped>\n",
       "    .dataframe tbody tr th:only-of-type {\n",
       "        vertical-align: middle;\n",
       "    }\n",
       "\n",
       "    .dataframe tbody tr th {\n",
       "        vertical-align: top;\n",
       "    }\n",
       "\n",
       "    .dataframe thead th {\n",
       "        text-align: right;\n",
       "    }\n",
       "</style>\n",
       "<table border=\"1\" class=\"dataframe\">\n",
       "  <thead>\n",
       "    <tr style=\"text-align: right;\">\n",
       "      <th></th>\n",
       "      <th>step</th>\n",
       "      <th>amount</th>\n",
       "      <th>oldbalanceOrg</th>\n",
       "      <th>newbalanceOrig</th>\n",
       "      <th>oldbalanceDest</th>\n",
       "      <th>newbalanceDest</th>\n",
       "      <th>isFlaggedFraud</th>\n",
       "    </tr>\n",
       "    <tr>\n",
       "      <th>isFraud</th>\n",
       "      <th></th>\n",
       "      <th></th>\n",
       "      <th></th>\n",
       "      <th></th>\n",
       "      <th></th>\n",
       "      <th></th>\n",
       "      <th></th>\n",
       "    </tr>\n",
       "  </thead>\n",
       "  <tbody>\n",
       "    <tr>\n",
       "      <th>0</th>\n",
       "      <td>242.938649</td>\n",
       "      <td>1.761585e+05</td>\n",
       "      <td>8.297742e+05</td>\n",
       "      <td>852510.993156</td>\n",
       "      <td>1.105796e+06</td>\n",
       "      <td>1.228731e+06</td>\n",
       "      <td>0.000000</td>\n",
       "    </tr>\n",
       "    <tr>\n",
       "      <th>1</th>\n",
       "      <td>368.364667</td>\n",
       "      <td>1.459724e+06</td>\n",
       "      <td>1.648186e+06</td>\n",
       "      <td>199954.355613</td>\n",
       "      <td>5.533905e+05</td>\n",
       "      <td>1.281069e+06</td>\n",
       "      <td>0.002133</td>\n",
       "    </tr>\n",
       "  </tbody>\n",
       "</table>\n",
       "</div>"
      ],
      "text/plain": [
       "               step        amount  oldbalanceOrg  newbalanceOrig  \\\n",
       "isFraud                                                            \n",
       "0        242.938649  1.761585e+05   8.297742e+05   852510.993156   \n",
       "1        368.364667  1.459724e+06   1.648186e+06   199954.355613   \n",
       "\n",
       "         oldbalanceDest  newbalanceDest  isFlaggedFraud  \n",
       "isFraud                                                  \n",
       "0          1.105796e+06    1.228731e+06        0.000000  \n",
       "1          5.533905e+05    1.281069e+06        0.002133  "
      ]
     },
     "execution_count": 55,
     "metadata": {},
     "output_type": "execute_result"
    }
   ],
   "source": [
    "df_fraud= df.groupby('isFraud').mean()\n",
    "df_fraud"
   ]
  },
  {
   "cell_type": "code",
   "execution_count": 52,
   "metadata": {},
   "outputs": [
    {
     "data": {
      "text/plain": [
       "0    192484\n",
       "1        16\n",
       "Name: isFlaggedFraud, dtype: int64"
      ]
     },
     "execution_count": 52,
     "metadata": {},
     "output_type": "execute_result"
    }
   ],
   "source": [
    "df['isFlaggedFraud'].value_counts()"
   ]
  },
  {
   "cell_type": "code",
   "execution_count": 12,
   "metadata": {},
   "outputs": [
    {
     "data": {
      "image/png": "[encoded data removed]",
      "text/plain": [
       "<Figure size 576x576 with 1 Axes>"
      ]
     },
     "metadata": {
      "needs_background": "light"
     },
     "output_type": "display_data"
    }
   ],
   "source": [
    "plt.figure(figsize = (8, 8))\n",
    "\n",
    "sns.countplot(x='isFlaggedFraud', data = df);"
   ]
  },
  {
   "cell_type": "code",
   "execution_count": 13,
   "metadata": {},
   "outputs": [
    {
     "data": {
      "text/plain": [
       "<Figure size 576x576 with 0 Axes>"
      ]
     },
     "metadata": {},
     "output_type": "display_data"
    },
    {
     "data": {
      "image/png": "[encoded data removed]",
      "text/plain": [
       "<Figure size 764.125x360 with 2 Axes>"
      ]
     },
     "metadata": {
      "needs_background": "light"
     },
     "output_type": "display_data"
    }
   ],
   "source": [
    "plt.figure(figsize = (8, 8))\n",
    "\n",
    "sns.catplot(x = 'type', y = 'amount', estimator = sum, \n",
    "            hue = 'isFraud' , col = 'isFlaggedFraud',\n",
    "            data = df);"
   ]
  },
  {
   "cell_type": "code",
   "execution_count": 14,
   "metadata": {},
   "outputs": [
    {
     "data": {
      "image/png": "[encoded data removed]",
      "text/plain": [
       "<Figure size 720x432 with 1 Axes>"
      ]
     },
     "metadata": {
      "needs_background": "light"
     },
     "output_type": "display_data"
    }
   ],
   "source": [
    "plt.figure(figsize = (10, 6))\n",
    "\n",
    "plt.ylim([0, 8000])\n",
    "\n",
    "sns.histplot(df['step'], kde = True);"
   ]
  },
  {
   "cell_type": "markdown",
   "metadata": {},
   "source": [
    "Converting the 'step' variable into hour of the day form using modulus operator"
   ]
  },
  {
   "cell_type": "code",
   "execution_count": 15,
   "metadata": {},
   "outputs": [
    {
     "data": {
      "text/html": [
       "<div>\n",
       "<style scoped>\n",
       "    .dataframe tbody tr th:only-of-type {\n",
       "        vertical-align: middle;\n",
       "    }\n",
       "\n",
       "    .dataframe tbody tr th {\n",
       "        vertical-align: top;\n",
       "    }\n",
       "\n",
       "    .dataframe thead th {\n",
       "        text-align: right;\n",
       "    }\n",
       "</style>\n",
       "<table border=\"1\" class=\"dataframe\">\n",
       "  <thead>\n",
       "    <tr style=\"text-align: right;\">\n",
       "      <th></th>\n",
       "      <th>step</th>\n",
       "      <th>type</th>\n",
       "      <th>amount</th>\n",
       "      <th>oldbalanceOrg</th>\n",
       "      <th>newbalanceOrig</th>\n",
       "      <th>oldbalanceDest</th>\n",
       "      <th>newbalanceDest</th>\n",
       "      <th>isFraud</th>\n",
       "      <th>isFlaggedFraud</th>\n",
       "    </tr>\n",
       "  </thead>\n",
       "  <tbody>\n",
       "    <tr>\n",
       "      <th>0</th>\n",
       "      <td>11</td>\n",
       "      <td>CASH_OUT</td>\n",
       "      <td>427818.23</td>\n",
       "      <td>198219.00</td>\n",
       "      <td>0.00</td>\n",
       "      <td>0.00</td>\n",
       "      <td>427818.23</td>\n",
       "      <td>0</td>\n",
       "      <td>0</td>\n",
       "    </tr>\n",
       "    <tr>\n",
       "      <th>1</th>\n",
       "      <td>19</td>\n",
       "      <td>CASH_IN</td>\n",
       "      <td>68154.77</td>\n",
       "      <td>2884459.21</td>\n",
       "      <td>2952613.98</td>\n",
       "      <td>1030035.29</td>\n",
       "      <td>961880.52</td>\n",
       "      <td>0</td>\n",
       "      <td>0</td>\n",
       "    </tr>\n",
       "    <tr>\n",
       "      <th>2</th>\n",
       "      <td>20</td>\n",
       "      <td>CASH_OUT</td>\n",
       "      <td>80828.54</td>\n",
       "      <td>0.00</td>\n",
       "      <td>0.00</td>\n",
       "      <td>5149991.49</td>\n",
       "      <td>5230820.04</td>\n",
       "      <td>0</td>\n",
       "      <td>0</td>\n",
       "    </tr>\n",
       "    <tr>\n",
       "      <th>3</th>\n",
       "      <td>20</td>\n",
       "      <td>TRANSFER</td>\n",
       "      <td>106069.89</td>\n",
       "      <td>301258.00</td>\n",
       "      <td>195188.11</td>\n",
       "      <td>263816.83</td>\n",
       "      <td>369886.72</td>\n",
       "      <td>0</td>\n",
       "      <td>0</td>\n",
       "    </tr>\n",
       "    <tr>\n",
       "      <th>4</th>\n",
       "      <td>10</td>\n",
       "      <td>PAYMENT</td>\n",
       "      <td>34530.86</td>\n",
       "      <td>200755.00</td>\n",
       "      <td>166224.14</td>\n",
       "      <td>0.00</td>\n",
       "      <td>0.00</td>\n",
       "      <td>0</td>\n",
       "      <td>0</td>\n",
       "    </tr>\n",
       "  </tbody>\n",
       "</table>\n",
       "</div>"
      ],
      "text/plain": [
       "   step      type     amount  oldbalanceOrg  newbalanceOrig  oldbalanceDest  \\\n",
       "0    11  CASH_OUT  427818.23      198219.00            0.00            0.00   \n",
       "1    19   CASH_IN   68154.77     2884459.21      2952613.98      1030035.29   \n",
       "2    20  CASH_OUT   80828.54           0.00            0.00      5149991.49   \n",
       "3    20  TRANSFER  106069.89      301258.00       195188.11       263816.83   \n",
       "4    10   PAYMENT   34530.86      200755.00       166224.14            0.00   \n",
       "\n",
       "   newbalanceDest  isFraud  isFlaggedFraud  \n",
       "0       427818.23        0               0  \n",
       "1       961880.52        0               0  \n",
       "2      5230820.04        0               0  \n",
       "3       369886.72        0               0  \n",
       "4            0.00        0               0  "
      ]
     },
     "execution_count": 15,
     "metadata": {},
     "output_type": "execute_result"
    }
   ],
   "source": [
    "df['step'] = df['step'] % 24\n",
    "\n",
    "df.head()"
   ]
  },
  {
   "cell_type": "code",
   "execution_count": 16,
   "metadata": {},
   "outputs": [
    {
     "data": {
      "image/png": "[encoded data removed]",
      "text/plain": [
       "<Figure size 864x432 with 1 Axes>"
      ]
     },
     "metadata": {
      "needs_background": "light"
     },
     "output_type": "display_data"
    }
   ],
   "source": [
    "plt.figure(figsize = (12, 6))\n",
    "\n",
    "sns.lineplot(x = 'step', y = 'amount', hue = 'type', ci = None,\n",
    "             estimator = 'mean', data = df);"
   ]
  },
  {
   "cell_type": "code",
   "execution_count": 17,
   "metadata": {},
   "outputs": [
    {
     "data": {
      "image/png": "[encoded data removed]",
      "text/plain": [
       "<Figure size 720x360 with 2 Axes>"
      ]
     },
     "metadata": {
      "needs_background": "light"
     },
     "output_type": "display_data"
    }
   ],
   "source": [
    "sns.displot(data = df, x = 'step', col = 'isFraud');"
   ]
  },
  {
   "cell_type": "code",
   "execution_count": 18,
   "metadata": {},
   "outputs": [
    {
     "data": {
      "text/plain": [
       "<AxesSubplot:xlabel='type', ylabel='count'>"
      ]
     },
     "execution_count": 18,
     "metadata": {},
     "output_type": "execute_result"
    },
    {
     "data": {
      "image/png": "[encoded data removed]",
      "text/plain": [
       "<Figure size 864x432 with 1 Axes>"
      ]
     },
     "metadata": {
      "needs_background": "light"
     },
     "output_type": "display_data"
    }
   ],
   "source": [
    "plt.figure(figsize = (12, 6))\n",
    "\n",
    "sns.countplot(x = 'type', hue = 'isFraud', data = df)"
   ]
  },
  {
   "cell_type": "code",
   "execution_count": 20,
   "metadata": {},
   "outputs": [
    {
     "data": {
      "image/png": "[encoded data removed]",
      "text/plain": [
       "<Figure size 864x432 with 1 Axes>"
      ]
     },
     "metadata": {
      "needs_background": "light"
     },
     "output_type": "display_data"
    }
   ],
   "source": [
    "plt.figure(figsize = (12, 6))\n",
    "\n",
    "sns.barplot(x = 'type', y = 'amount', estimator = sum, hue = 'isFraud', data = df);"
   ]
  },
  {
   "cell_type": "code",
   "execution_count": 19,
   "metadata": {},
   "outputs": [
    {
     "data": {
      "image/png": "[encoded data removed]",
      "text/plain": [
       "<Figure size 864x432 with 2 Axes>"
      ]
     },
     "metadata": {
      "needs_background": "light"
     },
     "output_type": "display_data"
    }
   ],
   "source": [
    "corrmat = df.corr()\n",
    "\n",
    "ax = plt.subplots(figsize = (12, 6))\n",
    "\n",
    "sns.heatmap(corrmat, vmax = 0.9, square = True, annot = True, fmt = '0.2f', cmap = 'viridis');"
   ]
  },
  {
   "cell_type": "code",
   "execution_count": 21,
   "metadata": {},
   "outputs": [
    {
     "data": {
      "text/html": [
       "<div>\n",
       "<style scoped>\n",
       "    .dataframe tbody tr th:only-of-type {\n",
       "        vertical-align: middle;\n",
       "    }\n",
       "\n",
       "    .dataframe tbody tr th {\n",
       "        vertical-align: top;\n",
       "    }\n",
       "\n",
       "    .dataframe thead th {\n",
       "        text-align: right;\n",
       "    }\n",
       "</style>\n",
       "<table border=\"1\" class=\"dataframe\">\n",
       "  <thead>\n",
       "    <tr style=\"text-align: right;\">\n",
       "      <th></th>\n",
       "      <th>step</th>\n",
       "      <th>type</th>\n",
       "      <th>amount</th>\n",
       "      <th>oldbalanceOrg</th>\n",
       "      <th>newbalanceOrig</th>\n",
       "      <th>oldbalanceDest</th>\n",
       "      <th>newbalanceDest</th>\n",
       "      <th>isFraud</th>\n",
       "      <th>isFlaggedFraud</th>\n",
       "    </tr>\n",
       "  </thead>\n",
       "  <tbody>\n",
       "    <tr>\n",
       "      <th>0</th>\n",
       "      <td>11</td>\n",
       "      <td>CASH_OUT</td>\n",
       "      <td>427818.23</td>\n",
       "      <td>198219.0</td>\n",
       "      <td>0.00</td>\n",
       "      <td>0.00</td>\n",
       "      <td>427818.23</td>\n",
       "      <td>0</td>\n",
       "      <td>0</td>\n",
       "    </tr>\n",
       "    <tr>\n",
       "      <th>2</th>\n",
       "      <td>20</td>\n",
       "      <td>CASH_OUT</td>\n",
       "      <td>80828.54</td>\n",
       "      <td>0.0</td>\n",
       "      <td>0.00</td>\n",
       "      <td>5149991.49</td>\n",
       "      <td>5230820.04</td>\n",
       "      <td>0</td>\n",
       "      <td>0</td>\n",
       "    </tr>\n",
       "    <tr>\n",
       "      <th>3</th>\n",
       "      <td>20</td>\n",
       "      <td>TRANSFER</td>\n",
       "      <td>106069.89</td>\n",
       "      <td>301258.0</td>\n",
       "      <td>195188.11</td>\n",
       "      <td>263816.83</td>\n",
       "      <td>369886.72</td>\n",
       "      <td>0</td>\n",
       "      <td>0</td>\n",
       "    </tr>\n",
       "    <tr>\n",
       "      <th>6</th>\n",
       "      <td>18</td>\n",
       "      <td>CASH_OUT</td>\n",
       "      <td>402832.90</td>\n",
       "      <td>11665.0</td>\n",
       "      <td>0.00</td>\n",
       "      <td>28550.98</td>\n",
       "      <td>431383.87</td>\n",
       "      <td>0</td>\n",
       "      <td>0</td>\n",
       "    </tr>\n",
       "    <tr>\n",
       "      <th>12</th>\n",
       "      <td>22</td>\n",
       "      <td>CASH_OUT</td>\n",
       "      <td>34643.49</td>\n",
       "      <td>0.0</td>\n",
       "      <td>0.00</td>\n",
       "      <td>346081.41</td>\n",
       "      <td>380724.90</td>\n",
       "      <td>0</td>\n",
       "      <td>0</td>\n",
       "    </tr>\n",
       "  </tbody>\n",
       "</table>\n",
       "</div>"
      ],
      "text/plain": [
       "    step      type     amount  oldbalanceOrg  newbalanceOrig  oldbalanceDest  \\\n",
       "0     11  CASH_OUT  427818.23       198219.0            0.00            0.00   \n",
       "2     20  CASH_OUT   80828.54            0.0            0.00      5149991.49   \n",
       "3     20  TRANSFER  106069.89       301258.0       195188.11       263816.83   \n",
       "6     18  CASH_OUT  402832.90        11665.0            0.00        28550.98   \n",
       "12    22  CASH_OUT   34643.49            0.0            0.00       346081.41   \n",
       "\n",
       "    newbalanceDest  isFraud  isFlaggedFraud  \n",
       "0        427818.23        0               0  \n",
       "2       5230820.04        0               0  \n",
       "3        369886.72        0               0  \n",
       "6        431383.87        0               0  \n",
       "12       380724.90        0               0  "
      ]
     },
     "execution_count": 21,
     "metadata": {},
     "output_type": "execute_result"
    }
   ],
   "source": [
    "df = df.loc[(df.type == 'TRANSFER') | \\\n",
    "                                        (df.type == 'CASH_OUT')]\n",
    "df.head()"
   ]
  },
  {
   "cell_type": "code",
   "execution_count": null,
   "metadata": {},
   "outputs": [],
   "source": []
  }
 ],
 "metadata": {
  "kernelspec": {
   "display_name": "Python 3",
   "language": "python",
   "name": "python3"
  },
  "language_info": {
   "codemirror_mode": {
    "name": "ipython",
    "version": 3
   },
   "file_extension": ".py",
   "mimetype": "text/x-python",
   "name": "python",
   "nbconvert_exporter": "python",
   "pygments_lexer": "ipython3",
   "version": "3.8.5"
  }
 },
 "nbformat": 4,
 "nbformat_minor": 4
}
